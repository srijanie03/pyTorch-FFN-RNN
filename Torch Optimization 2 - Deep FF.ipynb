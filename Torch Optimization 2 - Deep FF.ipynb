{
 "cells": [
  {
   "cell_type": "markdown",
   "id": "487cb06c",
   "metadata": {},
   "source": [
    "## Prediction using Deep FF (64 hidden layers)"
   ]
  },
  {
   "cell_type": "code",
   "execution_count": 1,
   "id": "3f940cf3",
   "metadata": {},
   "outputs": [],
   "source": [
    "import torch\n",
    "import torch.nn as nn\n",
    "import torch.optim as optim\n",
    "import pandas as pd\n",
    "import numpy as np\n",
    "import matplotlib.pyplot as plt"
   ]
  },
  {
   "cell_type": "code",
   "execution_count": 2,
   "id": "402431e0",
   "metadata": {},
   "outputs": [],
   "source": [
    "from sklearn.preprocessing import MinMaxScaler\n",
    "from torch.utils.data import Dataset, DataLoader"
   ]
  },
  {
   "cell_type": "code",
   "execution_count": 3,
   "id": "e0e533bd",
   "metadata": {},
   "outputs": [],
   "source": [
    "force1=pd.read_csv('FlowStress_Prediction.csv')"
   ]
  },
  {
   "cell_type": "code",
   "execution_count": 4,
   "id": "7e0091bd",
   "metadata": {},
   "outputs": [],
   "source": [
    "force1['strain']=np.log(force1['sch_entry_thickness']/force1['sch_exit_thickness'])\n",
    "force1['strain_rate']=force1['strain']*force1['meas_speed_fpm']/np.sqrt(0.5*force1['avgrolldiam']*(force1['sch_entry_thickness']-force1['sch_exit_thickness']))\n",
    "force1['ln_strain']=np.log(force1['strain'])\n",
    "force1['ln_strain_rate']=np.log(force1['strain_rate'])\n",
    "force1['core_temp']=force1['meas_entry_temp']+5/9*0.75*force1['model_target_gauge']*(force1['meas_entry_temp']**4/308300000000+(force1['meas_entry_temp']-70)**1.25/1412)\n",
    "R=8.314\n",
    "force1['1/RT']=1/(R*force1['core_temp'])"
   ]
  },
  {
   "cell_type": "code",
   "execution_count": 5,
   "id": "52ffe273",
   "metadata": {},
   "outputs": [],
   "source": [
    "a=force1.loc[force1['model_grade']=='01010095FH1 ']"
   ]
  },
  {
   "cell_type": "code",
   "execution_count": 6,
   "id": "7f74c703",
   "metadata": {},
   "outputs": [],
   "source": [
    "a = a.dropna(subset=['1/RT'])"
   ]
  },
  {
   "cell_type": "code",
   "execution_count": 7,
   "id": "aa120ac3",
   "metadata": {},
   "outputs": [],
   "source": [
    "RT= a['1/RT']\n",
    "strain_rate = a['strain_rate']\n",
    "measured_values = a['meas_flow_stress']\n",
    "temp=a['core_temp']"
   ]
  },
  {
   "cell_type": "code",
   "execution_count": 8,
   "id": "b6b962e7",
   "metadata": {},
   "outputs": [],
   "source": [
    "input_features = a[['strain_rate', 'core_temp','meas_flow_stress']].values\n",
    "\n",
    "# Normalize the data\n",
    "scaler = MinMaxScaler()\n",
    "scaled_data = scaler.fit_transform(a[['strain_rate', 'core_temp','meas_flow_stress']])\n",
    "\n",
    "# Define train-test split (80-20) to be used layer\n",
    "train_size = int(0.8 * len(scaled_data))\n",
    "test_size = len(scaled_data) - train_size\n",
    "train_data, test_data = scaled_data[0:train_size,:], scaled_data[train_size:len(scaled_data),:]"
   ]
  },
  {
   "cell_type": "code",
   "execution_count": 9,
   "id": "10b2320f",
   "metadata": {},
   "outputs": [],
   "source": [
    "# Convert to PyTorch tensor\n",
    "x_train = torch.tensor(scaled_data, dtype=torch.float32)"
   ]
  },
  {
   "cell_type": "code",
   "execution_count": 10,
   "id": "47d45226",
   "metadata": {},
   "outputs": [],
   "source": [
    "# Define the neural network model\n",
    "class ZenerHollomonModel(nn.Module):\n",
    "    def __init__(self):\n",
    "        super(ZenerHollomonModel, self).__init__()\n",
    "        self.fc = nn.Sequential(\n",
    "            nn.Linear(3, 64),\n",
    "            nn.ReLU(),\n",
    "            nn.Linear(64, 32),\n",
    "            nn.ReLU(),\n",
    "            nn.Linear(32, 3) \n",
    "        )\n",
    "\n",
    "    def forward(self, x):\n",
    "        return self.fc(x)\n"
   ]
  },
  {
   "cell_type": "code",
   "execution_count": 11,
   "id": "3a4ab882",
   "metadata": {},
   "outputs": [],
   "source": [
    "# Define the loss function and optimizer\n",
    "model = ZenerHollomonModel()\n",
    "criterion = nn.MSELoss()\n",
    "optimizer = optim.Adam(model.parameters(), lr=0.001)"
   ]
  },
  {
   "cell_type": "code",
   "execution_count": 12,
   "id": "1ce26d0e",
   "metadata": {},
   "outputs": [
    {
     "name": "stderr",
     "output_type": "stream",
     "text": [
      "C:\\Users\\SDEY\\AppData\\Local\\anaconda3\\envs\\pyt-env\\Lib\\site-packages\\torch\\nn\\modules\\loss.py:535: UserWarning: Using a target size (torch.Size([164, 1])) that is different to the input size (torch.Size([164, 3])). This will likely lead to incorrect results due to broadcasting. Please ensure they have the same size.\n",
      "  return F.mse_loss(input, target, reduction=self.reduction)\n"
     ]
    },
    {
     "name": "stdout",
     "output_type": "stream",
     "text": [
      "Epoch [100/2500], Loss: 5.0427\n",
      "Epoch [200/2500], Loss: 1.5986\n",
      "Epoch [300/2500], Loss: 0.8905\n",
      "Epoch [400/2500], Loss: 0.5056\n",
      "Epoch [500/2500], Loss: 0.3125\n",
      "Epoch [600/2500], Loss: 0.2015\n",
      "Epoch [700/2500], Loss: 0.1284\n",
      "Epoch [800/2500], Loss: 0.0624\n",
      "Epoch [900/2500], Loss: 0.0177\n",
      "Epoch [1000/2500], Loss: 0.0029\n",
      "Epoch [1100/2500], Loss: 0.0015\n",
      "Epoch [1200/2500], Loss: 0.0013\n",
      "Epoch [1300/2500], Loss: 0.0011\n",
      "Epoch [1400/2500], Loss: 0.0010\n",
      "Epoch [1500/2500], Loss: 0.0009\n",
      "Epoch [1600/2500], Loss: 0.0008\n",
      "Epoch [1700/2500], Loss: 0.0007\n",
      "Epoch [1800/2500], Loss: 0.0006\n",
      "Epoch [1900/2500], Loss: 0.0005\n",
      "Epoch [2000/2500], Loss: 0.0004\n",
      "Epoch [2100/2500], Loss: 0.0003\n",
      "Epoch [2200/2500], Loss: 0.0003\n",
      "Epoch [2300/2500], Loss: 0.0002\n",
      "Epoch [2400/2500], Loss: 0.0002\n",
      "Epoch [2500/2500], Loss: 0.0002\n"
     ]
    }
   ],
   "source": [
    "# Training the model\n",
    "num_epochs = 2500\n",
    "for epoch in range(num_epochs):\n",
    "    optimizer.zero_grad()\n",
    "    outputs = model(x_train)\n",
    "    \n",
    "    \n",
    "    target_coefficients = torch.tensor(a['meas_flow_stress'].values).float().view(-1,1)\n",
    "    \n",
    "    loss = criterion(outputs, target_coefficients)\n",
    "    loss.backward()\n",
    "    optimizer.step()\n",
    "\n",
    "    if (epoch+1) % 100 == 0:\n",
    "        print(f'Epoch [{epoch+1}/{num_epochs}], Loss: {loss.item():.4f}')\n"
   ]
  },
  {
   "cell_type": "code",
   "execution_count": 13,
   "id": "47024286",
   "metadata": {},
   "outputs": [],
   "source": [
    "# Use the model for prediction\n",
    "with torch.no_grad():\n",
    "    predicted_coefficients = model(x_train)\n",
    "   \n",
    "    \n",
    "# Denormalize the predictions\n",
    "predicted_values = scaler.inverse_transform(predicted_coefficients)\n"
   ]
  },
  {
   "cell_type": "code",
   "execution_count": 14,
   "id": "c355701a",
   "metadata": {},
   "outputs": [
    {
     "name": "stdout",
     "output_type": "stream",
     "text": [
      "[ 26.33195834  49.84714293  72.11621532  77.96715779  80.91789484\n",
      "  83.81406698  87.73876238  92.6150157   97.5148674  107.28774395\n",
      "  70.26995854  78.94921045  32.31869791  61.56683998  78.92119951\n",
      "  83.00891895  87.6885869   89.64444065  94.52096224  98.44562988\n",
      " 103.32569447 113.11878366  75.11650343  81.86205225  38.1270458\n",
      "  80.87197466  82.90308237  87.67828169  89.64743786  94.51500483\n",
      "  99.42424593 104.30209961 114.09541082  76.08985586  82.83615398\n",
      "  39.09393897  65.487886    76.99256115  78.95436769  83.80390978\n",
      "  85.76610947  89.66592064  94.56531906 100.42394419 109.23222866\n",
      "  72.20479484  80.89398193  39.92204015  70.26807141  79.20664654\n",
      "  82.07379942  87.69571915  94.55824232 100.44029932 112.16949215\n",
      "  69.30614352  76.04739542  44.69439721  74.96712408  81.83919392\n",
      "  85.88144646  90.62039251  98.45196657 105.30312996 116.05463181\n",
      "  72.22005377  79.93381629  63.55051041  77.96452136  80.98952255\n",
      "  85.77189112  92.6114542   97.51076012 108.27092981  67.36181145\n",
      "  74.10655084  31.77680693  59.54772573  74.14386792  78.03888264\n",
      "  82.90301762  89.74216442  94.62968502 105.38128862  65.43630443\n",
      "  73.15107527  40.11350067  72.12351408  81.84626141  85.74251108\n",
      "  89.66583738  97.49261961 103.36809015 115.05475779  71.26438856\n",
      "  77.99980793  43.97447071  76.70657296  85.73685894  88.65917339\n",
      "  93.5619113  101.38336515 108.23715572 118.75346928  73.20291123\n",
      "  79.94197998  37.17899849  81.84282017  87.70617237  91.57903643\n",
      "  98.42538023 104.29483786 115.04592342  73.1746089   51.74416723\n",
      "  37.21055243  71.14322829  82.03217154  86.89168119  89.67294188\n",
      "  97.44459953 102.35375738 114.07404184  72.20466995  66.32446308\n",
      "  42.98689079  75.17741427  83.79391909  87.78514509  91.59553957\n",
      "  98.43853464 104.30983315 115.97973862  73.18459496  46.89120703\n",
      "  42.07029104  84.79960251  87.88296137  92.54759703 100.36311197\n",
      " 105.2654336  116.95256376  74.14516764  44.94345684  41.02355096\n",
      "  72.1595592   83.91874723  89.6509531   93.53322506 101.33730621\n",
      " 107.2444602  118.93386602  73.19857731  79.92277102  36.24246593\n",
      "  71.14097114  83.81933985  89.63235006  93.52888651 101.35159845\n",
      " 108.22170715 119.83131695  73.21076503  80.89902353]\n"
     ]
    }
   ],
   "source": [
    "print(predicted_values[:,2])"
   ]
  },
  {
   "cell_type": "code",
   "execution_count": 15,
   "id": "b749b0bb",
   "metadata": {},
   "outputs": [
    {
     "name": "stdout",
     "output_type": "stream",
     "text": [
      "19881      2.4\n",
      "19882      4.9\n",
      "19883      7.2\n",
      "19884      7.8\n",
      "19885      8.1\n",
      "          ... \n",
      "130532    10.2\n",
      "130533    10.9\n",
      "130534    12.1\n",
      "130535     7.3\n",
      "130536     8.1\n",
      "Name: meas_flow_stress, Length: 164, dtype: float64\n"
     ]
    }
   ],
   "source": [
    "print(measured_values)"
   ]
  },
  {
   "cell_type": "code",
   "execution_count": 16,
   "id": "48fbc18d",
   "metadata": {},
   "outputs": [
    {
     "name": "stdout",
     "output_type": "stream",
     "text": [
      "tensor([ 2.4672,  4.8915,  7.1872,  7.7904,  8.0946,  8.3932,  8.7978,  9.3005,\n",
      "         9.8057, 10.8132,  6.9969,  7.8917,  3.0844,  6.0997,  7.8888,  8.3102,\n",
      "         8.7926,  8.9943,  9.4970,  9.9016, 10.4047, 11.4143,  7.4965,  8.1920,\n",
      "         3.6832,  8.0899,  8.2993,  8.7916,  8.9946,  9.4964, 10.0025, 10.5054,\n",
      "        11.5150,  7.5969,  8.2924,  3.7829,  6.5039,  7.6900,  7.8922,  8.3922,\n",
      "         8.5944,  8.9965,  9.5016, 10.1056, 11.0136,  7.1964,  8.0922,  3.8683,\n",
      "         6.9967,  7.9182,  8.2138,  8.7934,  9.5008, 10.1072, 11.3164,  6.8975,\n",
      "         7.5925,  4.3602,  7.4811,  8.1896,  8.6063,  9.0949,  9.9023, 10.6086,\n",
      "        11.7170,  7.1979,  7.9932,  6.3042,  7.7902,  8.1020,  8.5950,  9.3001,\n",
      "         9.8052, 10.9145,  6.6971,  7.3924,  3.0285,  5.8915,  7.3963,  7.7978,\n",
      "         8.2993,  9.0043,  9.5082, 10.6166,  6.4986,  7.2939,  3.8880,  7.1880,\n",
      "         8.1903,  8.5920,  8.9965,  9.8034, 10.4091, 11.6139,  7.0994,  7.7938,\n",
      "         4.2860,  7.6605,  8.5914,  8.8927,  9.3981, 10.2045, 10.9110, 11.9952,\n",
      "         7.2993,  7.9940,  3.5855,  8.1900,  8.7945,  9.1937,  9.8995, 10.5046,\n",
      "        11.6130,  7.2964,  5.0870,  3.5887,  7.0869,  8.2095,  8.7105,  8.9972,\n",
      "         9.7984, 10.3045, 11.5128,  7.1964,  6.5902,  4.1842,  7.5028,  8.3911,\n",
      "         8.8026,  9.1954,  9.9009, 10.5062, 11.7093,  7.2974,  4.5867,  4.0897,\n",
      "         8.4948,  8.8127,  9.2936, 10.0993, 10.6047, 11.8095,  7.3964,  4.3859,\n",
      "         3.9818,  7.1917,  8.4040,  8.9949,  9.3952, 10.1997, 10.8087, 12.0138,\n",
      "         7.2988,  7.9920,  3.4889,  7.0867,  8.3937,  8.9930,  9.3947, 10.2012,\n",
      "        10.9095, 12.1063,  7.3001,  8.0927])\n"
     ]
    }
   ],
   "source": [
    "print(predicted_coefficients[:,2])"
   ]
  },
  {
   "cell_type": "code",
   "execution_count": 17,
   "id": "8532a6b7",
   "metadata": {},
   "outputs": [
    {
     "data": {
      "image/png": "[encoded data removed]",
      "text/plain": [
       "<Figure size 640x480 with 1 Axes>"
      ]
     },
     "metadata": {},
     "output_type": "display_data"
    }
   ],
   "source": [
    "plt.plot(a['core_temp'],measured_values,'ro',label='actual')\n",
    "plt.plot(a['core_temp'],predicted_coefficients[:,2],'bo',label='predicted')\n",
    "plt.xlabel('Temp')\n",
    "plt.ylabel('Force')\n",
    "plt.legend()\n",
    "plt.show()"
   ]
  },
  {
   "cell_type": "markdown",
   "id": "10a23774",
   "metadata": {},
   "source": [
    "## Loss : 0.0002"
   ]
  },
  {
   "cell_type": "markdown",
   "id": "7350052d",
   "metadata": {},
   "source": [
    "With the same number of epochs, we get better loss as compared to a straight-forward FFN.\n",
    "Introducing the hidden layers captures the non-linearity much better. \n",
    "- Next step would be splitting the data into train-test data "
   ]
  },
  {
   "cell_type": "code",
   "execution_count": null,
   "id": "a7cd25b6",
   "metadata": {},
   "outputs": [],
   "source": []
  }
 ],
 "metadata": {
  "kernelspec": {
   "display_name": "Python [conda env:pyt-env] *",
   "language": "python",
   "name": "conda-env-pyt-env-py"
  },
  "language_info": {
   "codemirror_mode": {
    "name": "ipython",
    "version": 3
   },
   "file_extension": ".py",
   "mimetype": "text/x-python",
   "name": "python",
   "nbconvert_exporter": "python",
   "pygments_lexer": "ipython3",
   "version": "3.11.7"
  }
 },
 "nbformat": 4,
 "nbformat_minor": 5
}
