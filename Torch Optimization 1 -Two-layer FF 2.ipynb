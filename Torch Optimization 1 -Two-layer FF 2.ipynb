{
 "cells": [
  {
   "cell_type": "markdown",
   "id": "90416dcb",
   "metadata": {},
   "source": [
    "## Prediction Using 2-layer Feed forward network"
   ]
  },
  {
   "cell_type": "code",
   "execution_count": 1,
   "id": "00729e50",
   "metadata": {},
   "outputs": [],
   "source": [
    "import torch\n",
    "import torch.nn as nn\n",
    "import torch.optim as optim\n",
    "import pandas as pd\n",
    "import numpy as np\n",
    "import matplotlib.pyplot as plt"
   ]
  },
  {
   "cell_type": "code",
   "execution_count": 2,
   "id": "844f46ae",
   "metadata": {},
   "outputs": [],
   "source": [
    "from sklearn.preprocessing import MinMaxScaler\n",
    "from torch.utils.data import Dataset, DataLoader"
   ]
  },
  {
   "cell_type": "code",
   "execution_count": 3,
   "id": "b0ed0a5b",
   "metadata": {},
   "outputs": [],
   "source": [
    "force1=pd.read_csv('FlowStress_Prediction.csv')"
   ]
  },
  {
   "cell_type": "code",
   "execution_count": 4,
   "id": "ed258a3d",
   "metadata": {},
   "outputs": [],
   "source": [
    "force1['strain']=np.log(force1['sch_entry_thickness']/force1['sch_exit_thickness'])\n",
    "force1['strain_rate']=force1['strain']*force1['meas_speed_fpm']/np.sqrt(0.5*force1['avgrolldiam']*(force1['sch_entry_thickness']-force1['sch_exit_thickness']))\n",
    "force1['ln_strain']=np.log(force1['strain'])\n",
    "force1['ln_strain_rate']=np.log(force1['strain_rate'])\n",
    "force1['core_temp']=force1['meas_entry_temp']+5/9*0.75*force1['model_target_gauge']*(force1['meas_entry_temp']**4/308300000000+(force1['meas_entry_temp']-70)**1.25/1412)\n",
    "R=8.314\n",
    "force1['1/RT']=1/(R*force1['core_temp'])"
   ]
  },
  {
   "cell_type": "code",
   "execution_count": 5,
   "id": "c0127d91",
   "metadata": {},
   "outputs": [],
   "source": [
    "a=force1.loc[force1['model_grade']=='01010095FH1 ']"
   ]
  },
  {
   "cell_type": "code",
   "execution_count": 6,
   "id": "d169043c",
   "metadata": {},
   "outputs": [],
   "source": [
    "a = a.dropna(subset=['1/RT'])"
   ]
  },
  {
   "cell_type": "code",
   "execution_count": 7,
   "id": "afb85d41",
   "metadata": {},
   "outputs": [],
   "source": [
    "RT= a['1/RT']\n",
    "strain_rate = a['strain_rate']\n",
    "measured_values = a['meas_flow_stress']\n",
    "temp=a['core_temp']"
   ]
  },
  {
   "cell_type": "code",
   "execution_count": 8,
   "id": "2ca40cca",
   "metadata": {},
   "outputs": [],
   "source": [
    "input_features = a[['core_temp','strain','strain_rate','meas_flow_stress']].values\n",
    "\n",
    "scaler = MinMaxScaler()\n",
    "scaled_data = scaler.fit_transform(a[['core_temp','strain','strain_rate','meas_flow_stress']])\n"
   ]
  },
  {
   "cell_type": "code",
   "execution_count": 9,
   "id": "a6e6190c",
   "metadata": {},
   "outputs": [],
   "source": [
    "# Convert to PyTorch tensor\n",
    "x_train = torch.tensor(scaled_data, dtype=torch.float32)"
   ]
  },
  {
   "cell_type": "code",
   "execution_count": 10,
   "id": "4375b04d",
   "metadata": {},
   "outputs": [],
   "source": [
    "# Define the neural network model\n",
    "class ZenerHollomonModel(nn.Module):\n",
    "    def __init__(self):\n",
    "        super(ZenerHollomonModel, self).__init__()\n",
    "        self.fc1 = nn.Linear(4, 64)  # First layer: 3 input features, 64 hidden units\n",
    "        self.fc2 = nn.Linear(64, 4)   # Second layer: 64 hidden units, 4 output units \n",
    "\n",
    "    def forward(self, x):\n",
    "        x = torch.relu(self.fc1(x))  # Apply ReLU activation to the output of the first layer\n",
    "        x = self.fc2(x)              # Output layer, no activation function for coefficients\n",
    "        return x"
   ]
  },
  {
   "cell_type": "code",
   "execution_count": 11,
   "id": "d51d6cee",
   "metadata": {},
   "outputs": [],
   "source": [
    "# Define the loss function and optimizer\n",
    "model = ZenerHollomonModel()\n",
    "criterion = nn.MSELoss()\n",
    "optimizer = optim.Adam(model.parameters(), lr=0.001)"
   ]
  },
  {
   "cell_type": "code",
   "execution_count": 12,
   "id": "3666393a",
   "metadata": {},
   "outputs": [
    {
     "name": "stderr",
     "output_type": "stream",
     "text": [
      "C:\\Users\\SDEY\\AppData\\Local\\anaconda3\\envs\\pyt-env\\Lib\\site-packages\\torch\\nn\\modules\\loss.py:535: UserWarning: Using a target size (torch.Size([164, 1])) that is different to the input size (torch.Size([164, 4])). This will likely lead to incorrect results due to broadcasting. Please ensure they have the same size.\n",
      "  return F.mse_loss(input, target, reduction=self.reduction)\n"
     ]
    },
    {
     "name": "stdout",
     "output_type": "stream",
     "text": [
      "Epoch [100/5000], Loss: 33.7459\n",
      "Epoch [200/5000], Loss: 1.7833\n",
      "Epoch [300/5000], Loss: 1.3313\n",
      "Epoch [400/5000], Loss: 1.2609\n",
      "Epoch [500/5000], Loss: 1.1870\n",
      "Epoch [600/5000], Loss: 1.1106\n",
      "Epoch [700/5000], Loss: 1.0323\n",
      "Epoch [800/5000], Loss: 0.9525\n",
      "Epoch [900/5000], Loss: 0.8442\n",
      "Epoch [1000/5000], Loss: 0.6708\n",
      "Epoch [1100/5000], Loss: 0.5167\n",
      "Epoch [1200/5000], Loss: 0.3918\n",
      "Epoch [1300/5000], Loss: 0.2916\n",
      "Epoch [1400/5000], Loss: 0.2111\n",
      "Epoch [1500/5000], Loss: 0.1495\n",
      "Epoch [1600/5000], Loss: 0.1032\n",
      "Epoch [1700/5000], Loss: 0.0691\n",
      "Epoch [1800/5000], Loss: 0.0450\n",
      "Epoch [1900/5000], Loss: 0.0285\n",
      "Epoch [2000/5000], Loss: 0.0176\n",
      "Epoch [2100/5000], Loss: 0.0108\n",
      "Epoch [2200/5000], Loss: 0.0067\n",
      "Epoch [2300/5000], Loss: 0.0043\n",
      "Epoch [2400/5000], Loss: 0.0029\n",
      "Epoch [2500/5000], Loss: 0.0021\n",
      "Epoch [2600/5000], Loss: 0.0016\n",
      "Epoch [2700/5000], Loss: 0.0013\n",
      "Epoch [2800/5000], Loss: 0.0011\n",
      "Epoch [2900/5000], Loss: 0.0009\n",
      "Epoch [3000/5000], Loss: 0.0008\n",
      "Epoch [3100/5000], Loss: 0.0007\n",
      "Epoch [3200/5000], Loss: 0.0006\n",
      "Epoch [3300/5000], Loss: 0.0005\n",
      "Epoch [3400/5000], Loss: 0.0004\n",
      "Epoch [3500/5000], Loss: 0.0004\n",
      "Epoch [3600/5000], Loss: 0.0004\n",
      "Epoch [3700/5000], Loss: 0.0003\n",
      "Epoch [3800/5000], Loss: 0.0003\n",
      "Epoch [3900/5000], Loss: 0.0003\n",
      "Epoch [4000/5000], Loss: 0.0003\n",
      "Epoch [4100/5000], Loss: 0.0002\n",
      "Epoch [4200/5000], Loss: 0.0002\n",
      "Epoch [4300/5000], Loss: 0.0002\n",
      "Epoch [4400/5000], Loss: 0.0002\n",
      "Epoch [4500/5000], Loss: 0.0002\n",
      "Epoch [4600/5000], Loss: 0.0002\n",
      "Epoch [4700/5000], Loss: 0.0002\n",
      "Epoch [4800/5000], Loss: 0.0002\n",
      "Epoch [4900/5000], Loss: 0.0001\n",
      "Epoch [5000/5000], Loss: 0.0001\n"
     ]
    }
   ],
   "source": [
    "# Train the model\n",
    "num_epochs = 5000\n",
    "for epoch in range(num_epochs):\n",
    "    optimizer.zero_grad()\n",
    "    outputs = model(x_train)\n",
    "    \n",
    "    # Assuming you have the ground truth coefficients from another source\n",
    "    # For demonstration, randomly generate target coefficients\n",
    "    target_coefficients = torch.tensor(a['meas_flow_stress'].values).float().view(-1, 1)\n",
    "    \n",
    "    loss = criterion(outputs, target_coefficients)\n",
    "    loss.backward()\n",
    "    optimizer.step()\n",
    "\n",
    "    if (epoch+1) % 100 == 0:\n",
    "        print(f'Epoch [{epoch+1}/{num_epochs}], Loss: {loss.item():.4f}')\n"
   ]
  },
  {
   "cell_type": "code",
   "execution_count": 13,
   "id": "595865c5",
   "metadata": {},
   "outputs": [
    {
     "name": "stdout",
     "output_type": "stream",
     "text": [
      "[[3.25173033e+03 3.83787957e-01 3.13226932e+01 2.64745477e+01]\n",
      " [5.25756599e+03 7.56860141e-01 5.90786114e+01 4.99218187e+01]\n",
      " [7.17489366e+03 1.11185568e+00 8.57210516e+01 7.22397114e+01]\n",
      " [7.67494960e+03 1.20441270e+00 9.26599445e+01 7.80810563e+01]\n",
      " [7.92548672e+03 1.25092352e+00 9.61745659e+01 8.09144721e+01]\n",
      " [8.17544100e+03 1.29734371e+00 9.96164442e+01 8.39122440e+01]\n",
      " [8.50836628e+03 1.35869161e+00 1.04264829e+02 8.77058856e+01]\n",
      " [8.92310322e+03 1.43561915e+00 1.09985621e+02 9.26614724e+01]\n",
      " [9.33908667e+03 1.51235646e+00 1.15780844e+02 9.74414266e+01]\n",
      " [1.01683363e+04 1.66602835e+00 1.27241546e+02 1.07286680e+02]\n",
      " [7.00363437e+03 1.08087843e+00 8.33384611e+01 7.03740283e+01]\n",
      " [7.75641219e+03 1.21926145e+00 9.38332891e+01 7.89677487e+01]\n",
      " [3.77424307e+03 4.82315373e-01 3.85362305e+01 3.25162615e+01]\n",
      " [6.25743341e+03 9.41800029e-01 7.29623817e+01 6.15765532e+01]\n",
      " [7.75821064e+03 1.21978972e+00 9.38227283e+01 7.90367585e+01]\n",
      " [8.09103726e+03 1.28121983e+00 9.84229626e+01 8.29603993e+01]\n",
      " [8.50892257e+03 1.35894856e+00 1.04252123e+02 8.77837297e+01]\n",
      " [8.67538838e+03 1.38983708e+00 1.06558494e+02 8.97413134e+01]\n",
      " [9.09191227e+03 1.46677356e+00 1.12352012e+02 9.45576225e+01]\n",
      " [9.42310052e+03 1.52811061e+00 1.16930025e+02 9.84857962e+01]\n",
      " [9.83928367e+03 1.60501923e+00 1.22710584e+02 1.03322022e+02]\n",
      " [1.06683748e+04 1.75851645e+00 1.34187919e+02 1.13106610e+02]\n",
      " [7.42042175e+03 1.15806123e+00 8.91162973e+01 7.52626913e+01]\n",
      " [8.00517622e+03 1.26534879e+00 9.72869493e+01 8.18855859e+01]\n",
      " [4.25881234e+03 5.72529659e-01 4.52487370e+01 3.82077068e+01]\n",
      " [7.92511269e+03 1.25071688e+00 9.61473278e+01 8.09667012e+01]\n",
      " [8.09137880e+03 1.28138937e+00 9.84372857e+01 8.29455521e+01]\n",
      " [8.50865789e+03 1.35881305e+00 1.04240880e+02 8.77951820e+01]\n",
      " [8.67537015e+03 1.38981127e+00 1.06561146e+02 8.97320072e+01]\n",
      " [9.09205412e+03 1.46682518e+00 1.12350901e+02 9.45682515e+01]\n",
      " [9.50632748e+03 1.54346644e+00 1.18090988e+02 9.94399073e+01]\n",
      " [9.92211124e+03 1.62039133e+00 1.23853220e+02 1.04314199e+02]\n",
      " [1.07515542e+04 1.77388884e+00 1.35344867e+02 1.14071267e+02]\n",
      " [7.50356432e+03 1.17346134e+00 9.02679263e+01 7.62421445e+01]\n",
      " [8.08856009e+03 1.28079349e+00 9.84465374e+01 8.28542482e+01]\n",
      " [4.34202068e+03 5.87880533e-01 4.64008858e+01 3.91836725e+01]\n",
      " [6.59064397e+03 1.00343062e+00 7.75872579e+01 6.54659851e+01]\n",
      " [7.59204596e+03 1.18916181e+00 9.15284856e+01 7.70712193e+01]\n",
      " [7.75823481e+03 1.21980812e+00 9.38154182e+01 7.90539878e+01]\n",
      " [8.17573578e+03 1.29732493e+00 9.96281601e+01 8.38930952e+01]\n",
      " [8.34194484e+03 1.32810023e+00 1.01934487e+02 8.58352673e+01]\n",
      " [8.67526634e+03 1.38966402e+00 1.06570254e+02 8.96886032e+01]\n",
      " [9.08968789e+03 1.46639048e+00 1.12304940e+02 9.45846437e+01]\n",
      " [9.58866612e+03 1.55865287e+00 1.19229311e+02 1.00407746e+02]\n",
      " [1.03350161e+04 1.69685087e+00 1.29557928e+02 1.09223737e+02]\n",
      " [7.17049283e+03 1.11178491e+00 8.56509432e+01 7.23322872e+01]\n",
      " [7.92195402e+03 1.24998285e+00 9.61341598e+01 8.09098190e+01]\n",
      " [4.36651603e+03 5.92724655e-01 4.67464608e+01 3.95532055e+01]\n",
      " [7.00957530e+03 1.08110194e+00 8.34266878e+01 7.02734738e+01]\n",
      " [7.75940049e+03 1.21979610e+00 9.38233058e+01 7.90476049e+01]\n",
      " [8.01005925e+03 1.26640210e+00 9.73076419e+01 8.19667510e+01]\n",
      " [8.51069447e+03 1.35911091e+00 1.04286633e+02 8.77270326e+01]\n",
      " [9.09143443e+03 1.46650532e+00 1.12339735e+02 9.45298059e+01]\n",
      " [9.58926996e+03 1.55856839e+00 1.19238684e+02 1.00368413e+02]\n",
      " [1.05865251e+04 1.74298581e+00 1.33071884e+02 1.12027310e+02]\n",
      " [6.91947867e+03 1.06539054e+00 8.21561783e+01 6.94395054e+01]\n",
      " [7.50612509e+03 1.17313972e+00 9.03620880e+01 7.60559754e+01]\n",
      " [4.76657874e+03 6.66669540e-01 5.22799738e+01 4.42234008e+01]\n",
      " [7.42496640e+03 1.15759419e+00 8.91608397e+01 7.51843939e+01]\n",
      " [8.01036751e+03 1.26650153e+00 9.73361121e+01 8.19162703e+01]\n",
      " [8.34361452e+03 1.32821404e+00 1.01947325e+02 8.58414004e+01]\n",
      " [8.76062180e+03 1.40527562e+00 1.07766794e+02 9.06105406e+01]\n",
      " [9.42460695e+03 1.52810812e+00 1.16970838e+02 9.84003017e+01]\n",
      " [1.00056599e+04 1.63560812e+00 1.25019375e+02 1.05228255e+02]\n",
      " [1.09197182e+04 1.80462923e+00 1.37698278e+02 1.15913458e+02]\n",
      " [7.16946622e+03 1.11164867e+00 8.56262628e+01 7.23576848e+01]\n",
      " [7.83871041e+03 1.23471289e+00 9.49811282e+01 7.99413186e+01]\n",
      " [6.42408307e+03 9.72142020e-01 7.52398151e+01 6.35616667e+01]\n",
      " [7.67728849e+03 1.20495285e+00 9.27235733e+01 7.80077635e+01]\n",
      " [7.92678474e+03 1.25103747e+00 9.61609908e+01 8.09774320e+01]\n",
      " [8.34367316e+03 1.32809964e+00 1.01986125e+02 8.57298192e+01]\n",
      " [8.92488066e+03 1.43569204e+00 1.10033100e+02 9.25770326e+01]\n",
      " [9.34102102e+03 1.51244270e+00 1.15829115e+02 9.73565427e+01]\n",
      " [1.02538455e+04 1.68140896e+00 1.28467502e+02 1.08111967e+02]\n",
      " [6.75361511e+03 1.03457059e+00 7.98736790e+01 6.74374863e+01]\n",
      " [7.34454706e+03 1.14286798e+00 8.81226240e+01 7.40862133e+01]\n",
      " [3.69383344e+03 4.67910966e-01 3.74597428e+01 3.14527500e+01]\n",
      " [6.09349470e+03 9.11727452e-01 7.07712444e+01 5.94329623e+01]\n",
      " [7.34314761e+03 1.14279736e+00 8.81335808e+01 7.39635174e+01]\n",
      " [7.67621791e+03 1.20440221e+00 9.27530006e+01 7.78549290e+01]\n",
      " [8.09302470e+03 1.28145052e+00 9.85410896e+01 8.26994480e+01]\n",
      " [8.67417911e+03 1.38904629e+00 1.06585468e+02 8.95522118e+01]\n",
      " [9.09031154e+03 1.46589785e+00 1.12367799e+02 9.43747189e+01]\n",
      " [1.00034768e+04 1.63494023e+00 1.25009991e+02 1.05135120e+02]\n",
      " [6.58670752e+03 1.00358366e+00 7.75698490e+01 6.54493201e+01]\n",
      " [7.26461349e+03 1.12813861e+00 8.70105431e+01 7.31172781e+01]\n",
      " [4.42605573e+03 6.03401017e-01 4.75972826e+01 4.00663085e+01]\n",
      " [7.17704197e+03 1.11227886e+00 8.57746257e+01 7.21774268e+01]\n",
      " [8.01065754e+03 1.26660155e+00 9.73477070e+01 8.19016820e+01]\n",
      " [8.34403293e+03 1.32834544e+00 1.01972660e+02 8.57971731e+01]\n",
      " [8.67704617e+03 1.38971110e+00 1.06619252e+02 8.95964298e+01]\n",
      " [9.34118030e+03 1.51258555e+00 1.15823648e+02 9.73923149e+01]\n",
      " [9.83942551e+03 1.60470802e+00 1.22731276e+02 1.03223743e+02]\n",
      " [1.08363922e+04 1.78912132e+00 1.36553409e+02 1.14903362e+02]\n",
      " [7.08584067e+03 1.09609287e+00 8.44756239e+01 7.13510578e+01]\n",
      " [7.67233257e+03 1.20401041e+00 9.26782939e+01 7.79866026e+01]\n",
      " [4.75977880e+03 6.65288962e-01 5.22125771e+01 4.40137721e+01]\n",
      " [7.59162636e+03 1.18838290e+00 9.14748564e+01 7.71243273e+01]\n",
      " [8.34409077e+03 1.32830775e+00 1.01981571e+02 8.57796894e+01]\n",
      " [8.59391985e+03 1.37457893e+00 1.05441865e+02 8.87131509e+01]\n",
      " [9.01025355e+03 1.45129395e+00 1.11254161e+02 9.34563245e+01]\n",
      " [9.67440670e+03 1.57421460e+00 1.20453166e+02 1.01270174e+02]\n",
      " [1.02553162e+04 1.68169113e+00 1.28499173e+02 1.08099201e+02]\n",
      " [1.11696828e+04 1.85079262e+00 1.41179814e+02 1.18794135e+02]\n",
      " [7.25258977e+03 1.12696702e+00 8.67880345e+01 7.33041919e+01]\n",
      " [7.83893864e+03 1.23482076e+00 9.49906825e+01 7.99310966e+01]\n",
      " [4.17619516e+03 5.57316389e-01 4.41115687e+01 3.72072222e+01]\n",
      " [8.01023913e+03 1.26648892e+00 9.73377622e+01 8.19105349e+01]\n",
      " [8.51016829e+03 1.35899227e+00 1.04293970e+02 8.76971252e+01]\n",
      " [8.84397159e+03 1.42083456e+00 1.08910244e+02 9.16329954e+01]\n",
      " [9.42522030e+03 1.52844852e+00 1.16956185e+02 9.84856852e+01]\n",
      " [9.92421042e+03 1.62050587e+00 1.23904286e+02 1.04228520e+02]\n",
      " [1.08374588e+04 1.78955338e+00 1.36549240e+02 1.14984416e+02]\n",
      " [7.25370989e+03 1.12721605e+00 8.68015380e+01 7.33188171e+01]\n",
      " [5.48427597e+03 7.96496743e-01 6.20532014e+01 5.20750395e+01]\n",
      " [4.17574446e+03 5.57042173e-01 4.41296678e+01 3.71275742e+01]\n",
      " [7.09318660e+03 1.09669396e+00 8.46018256e+01 7.12220021e+01]\n",
      " [8.00941578e+03 1.26610379e+00 9.73034066e+01 8.19475467e+01]\n",
      " [8.42651341e+03 1.34345532e+00 1.03094801e+02 8.68161867e+01]\n",
      " [8.67742733e+03 1.39005311e+00 1.06593895e+02 8.97025717e+01]\n",
      " [9.34185149e+03 1.51299135e+00 1.15802878e+02 9.75002606e+01]\n",
      " [9.75744586e+03 1.58965329e+00 1.21588388e+02 1.02285691e+02]\n",
      " [1.07541344e+04 1.77413860e+00 1.35392061e+02 1.14013496e+02]\n",
      " [7.17044647e+03 1.11178565e+00 8.56490125e+01 7.23362187e+01]\n",
      " [6.69392525e+03 1.02176378e+00 7.90209265e+01 6.64063729e+01]\n",
      " [4.67650905e+03 6.49876456e-01 5.10490067e+01 4.30628894e+01]\n",
      " [7.42580243e+03 1.15805001e+00 8.92019994e+01 7.51382286e+01]\n",
      " [8.17710512e+03 1.29741806e+00 9.96611187e+01 8.38429845e+01]\n",
      " [8.51013421e+03 1.35899403e+00 1.04263993e+02 8.77735633e+01]\n",
      " [8.84368552e+03 1.42065139e+00 1.08922972e+02 9.15784814e+01]\n",
      " [9.42481933e+03 1.52821386e+00 1.16970970e+02 9.84188770e+01]\n",
      " [9.92398616e+03 1.62037520e+00 1.23912514e+02 1.04191434e+02]\n",
      " [1.09205661e+04 1.80483969e+00 1.37714625e+02 1.15918721e+02]\n",
      " [7.25367106e+03 1.12713010e+00 8.68113838e+01 7.32857322e+01]\n",
      " [5.08339685e+03 7.21897427e-01 5.64593377e+01 4.73149373e+01]\n",
      " [4.59237276e+03 6.34110720e-01 4.99161672e+01 4.19808420e+01]\n",
      " [8.26016250e+03 1.31265788e+00 1.00840310e+02 8.47366426e+01]\n",
      " [8.50978633e+03 1.35884429e+00 1.04249681e+02 8.77897242e+01]\n",
      " [8.92730553e+03 1.43623776e+00 1.10069370e+02 9.25983275e+01]\n",
      " [9.59175902e+03 1.55920900e+00 1.19274987e+02 1.00407978e+02]\n",
      " [1.00077710e+04 1.63593282e+00 1.25069407e+02 1.05186174e+02]\n",
      " [1.10040498e+04 1.82034393e+00 1.38866227e+02 1.16915182e+02]\n",
      " [7.33723917e+03 1.14264307e+00 8.79653449e+01 7.42790152e+01]\n",
      " [4.92420209e+03 6.92213423e-01 5.42127562e+01 4.54207298e+01]\n",
      " [4.50914342e+03 6.18811654e-01 4.87012119e+01 4.11678933e+01]\n",
      " [7.17641713e+03 1.11202111e+00 8.57490707e+01 7.22069410e+01]\n",
      " [8.17657260e+03 1.29712254e+00 9.96318124e+01 8.38785532e+01]\n",
      " [8.67738216e+03 1.39006484e+00 1.06595281e+02 8.97029880e+01]\n",
      " [9.01058242e+03 1.45154254e+00 1.11234601e+02 9.35346312e+01]\n",
      " [9.67499786e+03 1.57461395e+00 1.20424278e+02 1.01391089e+02]\n",
      " [1.01723674e+04 1.66645821e+00 1.27333315e+02 1.07174479e+02]\n",
      " [1.11700037e+04 1.85106628e+00 1.41156735e+02 1.18883330e+02]\n",
      " [7.25269477e+03 1.12700486e+00 8.67872204e+01 7.33119393e+01]\n",
      " [7.83838115e+03 1.23456543e+00 9.49674267e+01 7.99565081e+01]\n",
      " [4.09242696e+03 5.41599785e-01 4.29742793e+01 3.61479174e+01]\n",
      " [7.09332488e+03 1.09671625e+00 8.46016606e+01 7.12253462e+01]\n",
      " [8.17708373e+03 1.29732288e+00 9.96794131e+01 8.37848997e+01]\n",
      " [8.67716186e+03 1.38998110e+00 1.06597316e+02 8.96854857e+01]\n",
      " [9.01064661e+03 1.45158038e+00 1.11232225e+02 9.35454082e+01]\n",
      " [9.67478391e+03 1.57449017e+00 1.20432089e+02 1.01355733e+02]\n",
      " [1.02558789e+04 1.68182811e+00 1.28503992e+02 1.08112032e+02]\n",
      " [1.12532608e+04 1.86644000e+00 1.42316565e+02 1.19842584e+02]\n",
      " [7.25243643e+03 1.12689875e+00 8.67908727e+01 7.32875685e+01]\n",
      " [7.92182406e+03 1.25003872e+00 9.61295394e+01 8.09225017e+01]]\n"
     ]
    }
   ],
   "source": [
    "# Use the model for prediction\n",
    "with torch.no_grad():\n",
    "    predicted_coefficients = model(x_train)\n",
    "    \n",
    "# Denormalize the predictions\n",
    "predicted_values = scaler.inverse_transform(predicted_coefficients)\n",
    "print(predicted_values)"
   ]
  },
  {
   "cell_type": "markdown",
   "id": "e7000304",
   "metadata": {},
   "source": [
    "### Values of the coefficients"
   ]
  },
  {
   "cell_type": "code",
   "execution_count": 16,
   "id": "2d461929",
   "metadata": {},
   "outputs": [],
   "source": [
    "predicted_coeff_values=model.fc2.weight.data.numpy()"
   ]
  },
  {
   "cell_type": "code",
   "execution_count": 31,
   "id": "866cbd71",
   "metadata": {},
   "outputs": [
    {
     "name": "stdout",
     "output_type": "stream",
     "text": [
      "[[ 3.35240483e-01  1.79267943e+00  4.76928830e-01  1.23911731e-01\n",
      "   3.68860811e-02 -2.47182082e-02  1.57278210e-01  2.22660422e-01\n",
      "   2.97966748e-01  2.70078510e-01 -8.15862566e-02  3.60130146e-02\n",
      "   1.61855265e-01 -7.74114430e-02  2.28120908e-01  1.86698884e-01\n",
      "   9.96152014e-02  3.64764899e-01  2.86667645e-01  2.58689255e-01\n",
      "  -7.16041028e-03  4.69887406e-02 -2.18186695e-02  3.89913827e-01\n",
      "   5.11631489e-01  1.24381490e-01  9.56463069e-02  6.45032525e-03\n",
      "   3.26993704e-01  7.56748766e-02 -3.53364199e-02  2.59266734e-01\n",
      "   1.83888841e-02  3.46746951e-01  1.28685981e-01  1.19221404e-01\n",
      "   8.11605304e-02  1.19998872e-01  3.11432511e-01  9.72233415e-02\n",
      "   2.24732503e-01 -1.04991183e-01  2.49326125e-01  3.22504342e-01\n",
      "   2.10214108e-01  4.68070030e-01 -6.38240278e-02  1.22238696e-03\n",
      "   3.77406180e-03 -7.60730505e-02  2.39412308e-01  1.09991446e-01\n",
      "  -3.42549309e-02  6.57108799e-02  1.18017353e-01 -8.96985382e-02\n",
      "   1.62979573e-01 -2.14821592e-01  2.99394280e-01  2.12012589e-01\n",
      "   2.16662735e-01  2.57036567e-01  2.73732871e-01  2.93968916e-01]\n",
      " [ 4.79140371e-01  1.86917162e+00  4.78796393e-01  1.22489758e-01\n",
      "   4.19519320e-02  1.55814067e-01  2.04367816e-01  2.54198581e-01\n",
      "   1.09985687e-01  2.04376847e-01  6.76438212e-03  2.85271034e-02\n",
      "   3.04668583e-02  6.40105009e-02  2.19379127e-01  3.29527110e-01\n",
      "  -9.65979546e-02  3.35691839e-01  2.11529478e-01  1.39319658e-01\n",
      "  -1.02316380e-01 -2.95943469e-02 -5.98114133e-02  4.07225430e-01\n",
      "   3.51236939e-01  1.98808193e-01  7.06944615e-02  4.03922796e-02\n",
      "   4.56095368e-01  9.69371498e-02 -5.89092374e-02  2.67259032e-01\n",
      "  -9.05760974e-02  2.64098763e-01  1.90804675e-01 -9.14317816e-02\n",
      "   6.82033598e-02  1.63686857e-01  1.84540972e-01  2.08802223e-01\n",
      "   3.22820991e-01 -4.76625711e-02  1.18736535e-01  3.12980324e-01\n",
      "   1.03615493e-01  4.59187895e-01 -4.74370904e-02  1.06114283e-01\n",
      "   9.48266536e-02  7.40617514e-03  2.28323787e-01  2.72267193e-01\n",
      "  -2.01214887e-02  4.48485613e-02  7.89476633e-02  2.54692137e-03\n",
      "   1.72752753e-01 -8.34067538e-02  2.74028718e-01  1.22001827e-01\n",
      "   7.02895597e-02  3.25936198e-01  2.26930365e-01  1.71279058e-01]\n",
      " [ 4.36180949e-01  1.83705211e+00  4.79197115e-01  2.64836431e-01\n",
      "   1.94104493e-01  1.94596410e-01  2.43326992e-01  1.50291607e-01\n",
      "   1.47990733e-01  2.77186424e-01 -1.65103078e-02  1.70522526e-01\n",
      "   1.15584917e-01 -1.15147635e-01  6.99802116e-02  2.40492851e-01\n",
      "  -5.48637360e-02  2.11711884e-01  3.12539458e-01  8.88853893e-02\n",
      "   5.30247241e-02  4.41464782e-02 -2.30688266e-02  5.15081644e-01\n",
      "   4.69946831e-01  1.54303461e-01 -7.14751780e-02 -3.63001823e-02\n",
      "   4.21816558e-01  1.42822983e-02  8.77113640e-03  1.55000970e-01\n",
      "  -6.43990338e-02  2.57852197e-01  1.20374389e-01  6.12743348e-02\n",
      "   8.10476840e-02  1.22911885e-01  1.17041454e-01  1.41516984e-01\n",
      "   1.58430159e-01  1.20314479e-01  2.67972738e-01  1.69163272e-01\n",
      "   1.25059992e-01  3.44776928e-01 -3.49917598e-02 -4.99774069e-02\n",
      "  -5.39451540e-02  8.37656856e-03  2.92576492e-01  1.87432870e-01\n",
      "   1.78642164e-03  2.05618031e-02  1.84016645e-01 -6.14436269e-02\n",
      "   3.73651266e-01 -2.17831925e-01  3.60631704e-01  1.54723704e-01\n",
      "   6.42455444e-02  3.42643172e-01  1.50093973e-01  2.75528699e-01]\n",
      " [ 5.01763821e-01  1.71906435e+00  6.77802861e-01  2.68102229e-01\n",
      "   5.52043840e-02  1.91647530e-01  4.17947918e-02  8.80321339e-02\n",
      "   2.36992747e-01  2.51092464e-01 -3.48106176e-02  2.48373270e-01\n",
      "   9.77170616e-02  2.93112397e-02  2.35695690e-01  2.75998533e-01\n",
      "  -4.32541966e-03  2.93479800e-01  2.20335394e-01  9.61489603e-02\n",
      "  -4.26349938e-02  5.65505177e-02 -5.18950336e-02  4.08434033e-01\n",
      "   4.91808832e-01  3.21202546e-01  8.93537104e-02  3.30036581e-02\n",
      "   3.25181037e-01  4.92102467e-02  5.55192977e-02  9.09302011e-02\n",
      "   4.77175750e-02  3.03518564e-01  2.85085648e-01 -4.22067493e-02\n",
      "   1.76749781e-01  2.54510194e-01  2.07230479e-01  7.13663995e-02\n",
      "   2.06968501e-01 -6.82810545e-02  1.75544515e-01  1.72049776e-01\n",
      "   2.83608824e-01  2.80869573e-01 -5.40448613e-02 -6.87204003e-02\n",
      "   3.41521949e-02 -6.12026900e-02  1.80392012e-01  2.39514843e-01\n",
      "  -2.00958885e-02 -2.15320364e-02 -1.77194122e-02 -1.01424068e-01\n",
      "   3.16247284e-01 -9.47814062e-02  2.21789777e-01  9.47412923e-02\n",
      "   1.35351390e-01  2.71350384e-01  2.76810616e-01 -3.25809717e-02]]\n"
     ]
    }
   ],
   "source": [
    "print(predicted_coeff_values)"
   ]
  },
  {
   "cell_type": "markdown",
   "id": "d5c83cc4",
   "metadata": {},
   "source": [
    "### Taking a mean to get an aggregate, there could be a better approach to it."
   ]
  },
  {
   "cell_type": "code",
   "execution_count": 24,
   "id": "ced342ab",
   "metadata": {},
   "outputs": [
    {
     "name": "stdout",
     "output_type": "stream",
     "text": [
      "0.17645204\n"
     ]
    }
   ],
   "source": [
    "c_core_temp=np.mean(predicted_coeff_values[0:1])\n",
    "print(c_core_temp)"
   ]
  },
  {
   "cell_type": "code",
   "execution_count": 30,
   "id": "48bdaf9a",
   "metadata": {},
   "outputs": [
    {
     "name": "stdout",
     "output_type": "stream",
     "text": [
      "0.17253548\n",
      "[[ 3.35240483e-01  1.79267943e+00  4.76928830e-01  1.23911731e-01\n",
      "   3.68860811e-02 -2.47182082e-02  1.57278210e-01  2.22660422e-01\n",
      "   2.97966748e-01  2.70078510e-01 -8.15862566e-02  3.60130146e-02\n",
      "   1.61855265e-01 -7.74114430e-02  2.28120908e-01  1.86698884e-01\n",
      "   9.96152014e-02  3.64764899e-01  2.86667645e-01  2.58689255e-01\n",
      "  -7.16041028e-03  4.69887406e-02 -2.18186695e-02  3.89913827e-01\n",
      "   5.11631489e-01  1.24381490e-01  9.56463069e-02  6.45032525e-03\n",
      "   3.26993704e-01  7.56748766e-02 -3.53364199e-02  2.59266734e-01\n",
      "   1.83888841e-02  3.46746951e-01  1.28685981e-01  1.19221404e-01\n",
      "   8.11605304e-02  1.19998872e-01  3.11432511e-01  9.72233415e-02\n",
      "   2.24732503e-01 -1.04991183e-01  2.49326125e-01  3.22504342e-01\n",
      "   2.10214108e-01  4.68070030e-01 -6.38240278e-02  1.22238696e-03\n",
      "   3.77406180e-03 -7.60730505e-02  2.39412308e-01  1.09991446e-01\n",
      "  -3.42549309e-02  6.57108799e-02  1.18017353e-01 -8.96985382e-02\n",
      "   1.62979573e-01 -2.14821592e-01  2.99394280e-01  2.12012589e-01\n",
      "   2.16662735e-01  2.57036567e-01  2.73732871e-01  2.93968916e-01]]\n"
     ]
    }
   ],
   "source": [
    "c_strain=np.mean(predicted_coeff_values[1:2])\n",
    "print(c_strain)"
   ]
  },
  {
   "cell_type": "code",
   "execution_count": 29,
   "id": "5cf05866",
   "metadata": {},
   "outputs": [
    {
     "name": "stdout",
     "output_type": "stream",
     "text": [
      "0.17645204\n"
     ]
    }
   ],
   "source": [
    "c_strain_rate=np.mean(predicted_coeff_values[0:1])\n",
    "print(c_strain_rate)"
   ]
  },
  {
   "cell_type": "code",
   "execution_count": 15,
   "id": "bfa6c45a",
   "metadata": {},
   "outputs": [
    {
     "data": {
      "image/png": "[encoded data removed]",
      "text/plain": [
       "<Figure size 640x480 with 1 Axes>"
      ]
     },
     "metadata": {},
     "output_type": "display_data"
    }
   ],
   "source": [
    "plt.plot(a['core_temp'],measured_values,'ro',label='actual')\n",
    "plt.plot(a['core_temp'],predicted_coefficients[:,3],'bo',label='predicted')\n",
    "plt.xlabel('Temp')\n",
    "plt.ylabel('Force')\n",
    "plt.legend()\n",
    "plt.show()"
   ]
  },
  {
   "cell_type": "markdown",
   "id": "c66ab877",
   "metadata": {},
   "source": [
    "## Loss : 0.0015"
   ]
  },
  {
   "cell_type": "markdown",
   "id": "ccd57aa2",
   "metadata": {},
   "source": [
    "As can be seen from the plot above, the prediction is pretty good.\n",
    "- It can be made better by increasing the number of epochs.\n",
    "- The training currently is on the entire dataset, it would be worthwhile to split it into training and test data and recheck the loss."
   ]
  },
  {
   "cell_type": "code",
   "execution_count": null,
   "id": "82a11da3",
   "metadata": {},
   "outputs": [],
   "source": []
  }
 ],
 "metadata": {
  "kernelspec": {
   "display_name": "Python 3 (ipykernel)",
   "language": "python",
   "name": "python3"
  },
  "language_info": {
   "codemirror_mode": {
    "name": "ipython",
    "version": 3
   },
   "file_extension": ".py",
   "mimetype": "text/x-python",
   "name": "python",
   "nbconvert_exporter": "python",
   "pygments_lexer": "ipython3",
   "version": "3.11.7"
  }
 },
 "nbformat": 4,
 "nbformat_minor": 5
}
