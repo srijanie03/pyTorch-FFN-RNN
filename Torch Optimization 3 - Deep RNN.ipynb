{
 "cells": [
  {
   "cell_type": "markdown",
   "id": "fc4514d9",
   "metadata": {},
   "source": [
    "## Prediction using RNN"
   ]
  },
  {
   "cell_type": "code",
   "execution_count": 1,
   "id": "824a6915",
   "metadata": {},
   "outputs": [],
   "source": [
    "import torch"
   ]
  },
  {
   "cell_type": "code",
   "execution_count": 2,
   "id": "84022ab2",
   "metadata": {},
   "outputs": [],
   "source": [
    "import torch.nn as nn\n",
    "import torch.optim as optim\n",
    "import pandas as pd\n",
    "from torch.utils.data import Dataset, DataLoader\n",
    "from sklearn.preprocessing import MinMaxScaler"
   ]
  },
  {
   "cell_type": "code",
   "execution_count": 3,
   "id": "606c1575",
   "metadata": {},
   "outputs": [],
   "source": [
    "# Define the RNN model\n",
    "class DeepRNN(nn.Module):\n",
    "    def __init__(self, input_size, hidden_size, num_layers, output_size):\n",
    "        super(DeepRNN, self).__init__()\n",
    "        self.hidden_size = hidden_size\n",
    "        self.num_layers = num_layers\n",
    "        self.rnn = nn.RNN(input_size, hidden_size, num_layers, batch_first=True)\n",
    "        self.fc = nn.Linear(hidden_size, output_size)\n",
    "\n",
    "    def forward(self, x):\n",
    "        h0 = torch.zeros(self.num_layers, x.size(0), self.hidden_size).to(device)\n",
    "        out, _ = self.rnn(x, h0)\n",
    "        out = self.fc(out[:, -1, :])\n",
    "        return out\n"
   ]
  },
  {
   "cell_type": "code",
   "execution_count": 4,
   "id": "72e733d6",
   "metadata": {},
   "outputs": [],
   "source": [
    "# Custom dataset class\n",
    "class CustomDataset(Dataset):\n",
    "    def __init__(self, data, transform=None):\n",
    "        self.data = data\n",
    "        self.transform = transform\n",
    "\n",
    "    def __len__(self):\n",
    "        return len(self.data)\n",
    "\n",
    "    def __getitem__(self, idx):\n",
    "        sample = self.data[idx]\n",
    "        if self.transform:\n",
    "            sample = self.transform(sample)\n",
    "        return sample\n"
   ]
  },
  {
   "cell_type": "code",
   "execution_count": 5,
   "id": "084fa951",
   "metadata": {},
   "outputs": [],
   "source": [
    "# Read data from CSV\n",
    "force_data = pd.read_csv('ForceData_Evraz1.csv')"
   ]
  },
  {
   "cell_type": "code",
   "execution_count": 6,
   "id": "46e4a506",
   "metadata": {},
   "outputs": [
    {
     "data": {
      "text/plain": [
       "Index(['slabid', 'last_pass_dat', 'last_pass_tim', 'htnr', 'mold', 'csnr',\n",
       "       'work_top_diam', 'work_bot_diam', 'work_top_crown', 'work_bot_crown',\n",
       "       'backup_top_diam', 'backup_bot_diam', 'tot_rolled_wr_len',\n",
       "       'tot_rolled_br_len', 'model_grade', 'ordered_gauge', 'target_gauge',\n",
       "       'model_target_gauge', 'meas_final_gauge', 'op_gauge_bias',\n",
       "       'op_shape_bias', 'op_bend_bias', 'op_crown_bias', 'xray_slow_adjust',\n",
       "       'opr_gap_trim', 'ordered_width', 'number_of_passes',\n",
       "       'nr_passes_measured', 'pass_number', 'sch_mill_draft',\n",
       "       'sch_exit_thickness', 'sch_crown', 'sch_exit_width', 'sch_head_force',\n",
       "       'orig_pred_force', 'meas_head_force', 'meas_body_force',\n",
       "       'roll_bending_force', 'meas_bend_force', 'pred_exit_temp',\n",
       "       'meas_exit_temp', 'profile_xray_crown', 'profile_xray_wedge',\n",
       "       'lstpass_hend_gm_ga', 'lst_gm_ga_avg', 'lst_gm_ga_min', 'lst_gm_ga_max',\n",
       "       'lst_gm_ga_std', 'lst_gm_ga_num', 'lst_gm_ga_min_loc',\n",
       "       'lst_gm_ga_max_loc', 'lst_gm_ga_skewness', 'lst_gm_ga_kurtosis',\n",
       "       'lstpass_hend_xrga', 'cxray_avg', 'cxray_min', 'cxray_max', 'cxray_std',\n",
       "       'cxray_num', 'cxray_min_loc', 'cxray_max_loc', 'cxray_skewness',\n",
       "       'cxray_kurtosis', 'wid_thk_avg', 'min_final_width', 'max_final_width',\n",
       "       'wid_thk_std', 'wid_thk_num', 'wid_thk_min_loc', 'wid_thk_max_loc',\n",
       "       'wid_thk_skewness', 'wid_thk_kurtosis', 'cut_seq', 'ckga1', 'ckga2',\n",
       "       'ckga3', 'ckga4', 'ckga5'],\n",
       "      dtype='object')"
      ]
     },
     "execution_count": 6,
     "metadata": {},
     "output_type": "execute_result"
    }
   ],
   "source": [
    "force_data.columns"
   ]
  },
  {
   "cell_type": "code",
   "execution_count": 7,
   "id": "44bb5dde",
   "metadata": {},
   "outputs": [],
   "source": [
    "# Normalize the data\n",
    "scaler = MinMaxScaler()\n",
    "scaled_data = scaler.fit_transform(force_data[['meas_body_force','meas_exit_temp']])"
   ]
  },
  {
   "cell_type": "code",
   "execution_count": 8,
   "id": "3bfa29f3",
   "metadata": {},
   "outputs": [],
   "source": [
    "# Define train-test split (80-20)\n",
    "train_size = int(0.8 * len(scaled_data))\n",
    "test_size = len(scaled_data) - train_size\n",
    "train_data, test_data = scaled_data[0:train_size,:], scaled_data[train_size:len(scaled_data),:]"
   ]
  },
  {
   "cell_type": "code",
   "execution_count": 9,
   "id": "5b379954",
   "metadata": {},
   "outputs": [],
   "source": [
    "# Define hyperparameters\n",
    "input_size = 2\n",
    "hidden_size = 64\n",
    "num_layers = 2\n",
    "output_size = 2\n",
    "num_epochs = 100\n",
    "batch_size = 32\n",
    "learning_rate = 0.001"
   ]
  },
  {
   "cell_type": "code",
   "execution_count": 10,
   "id": "41fc12c0",
   "metadata": {},
   "outputs": [],
   "source": [
    "# Prepare DataLoader\n",
    "train_dataset = CustomDataset(train_data)\n",
    "train_loader = DataLoader(train_dataset, batch_size=batch_size, shuffle=True)"
   ]
  },
  {
   "cell_type": "code",
   "execution_count": 11,
   "id": "3ff05b5d",
   "metadata": {},
   "outputs": [],
   "source": [
    "# Initialize the model, loss function, and optimizer\n",
    "model = DeepRNN(input_size, hidden_size, num_layers, output_size)\n",
    "criterion = nn.MSELoss()\n",
    "optimizer = optim.Adam(model.parameters(), lr=learning_rate)"
   ]
  },
  {
   "cell_type": "code",
   "execution_count": 12,
   "id": "736fb9a9",
   "metadata": {},
   "outputs": [
    {
     "data": {
      "text/plain": [
       "DeepRNN(\n",
       "  (rnn): RNN(2, 64, num_layers=2, batch_first=True)\n",
       "  (fc): Linear(in_features=64, out_features=2, bias=True)\n",
       ")"
      ]
     },
     "execution_count": 12,
     "metadata": {},
     "output_type": "execute_result"
    }
   ],
   "source": [
    "# Device configuration\n",
    "device = torch.device('cuda' if torch.cuda.is_available() else 'cpu')\n",
    "model.to(device)"
   ]
  },
  {
   "cell_type": "code",
   "execution_count": 13,
   "id": "a40e79fa",
   "metadata": {},
   "outputs": [
    {
     "name": "stdout",
     "output_type": "stream",
     "text": [
      "Epoch [10/100], Loss: 0.0059\n",
      "Epoch [20/100], Loss: 0.0893\n",
      "Epoch [30/100], Loss: 0.0064\n",
      "Epoch [40/100], Loss: 0.0049\n",
      "Epoch [50/100], Loss: 0.0061\n",
      "Epoch [60/100], Loss: 0.0051\n",
      "Epoch [70/100], Loss: 0.0031\n",
      "Epoch [80/100], Loss: 0.0044\n",
      "Epoch [90/100], Loss: 0.0082\n",
      "Epoch [100/100], Loss: 0.0102\n"
     ]
    }
   ],
   "source": [
    "# Training the model\n",
    "for epoch in range(num_epochs):\n",
    "    for i, data in enumerate(train_loader):\n",
    "        inputs = data[:, :-1].view(-1, 1, input_size).float().to(device)\n",
    "        targets = data[:, -1].view(-1, output_size).float().to(device)\n",
    "\n",
    "        # Forward pass\n",
    "        outputs = model(inputs)\n",
    "        loss = criterion(outputs, targets)\n",
    "\n",
    "        # Backward and optimize\n",
    "        optimizer.zero_grad()\n",
    "        loss.backward()\n",
    "        optimizer.step()\n",
    "\n",
    "    if (epoch+1) % 10 == 0:\n",
    "        print(f'Epoch [{epoch+1}/{num_epochs}], Loss: {loss.item():.4f}')\n"
   ]
  },
  {
   "cell_type": "code",
   "execution_count": 14,
   "id": "8bc00e96",
   "metadata": {},
   "outputs": [
    {
     "name": "stdout",
     "output_type": "stream",
     "text": [
      "Test Loss: 0.0046\n"
     ]
    }
   ],
   "source": [
    "# Test the model\n",
    "model.eval()\n",
    "with torch.no_grad():\n",
    "    inputs = torch.Tensor(test_data[:, :-1]).view(-1, 1, input_size).to(device)\n",
    "    targets = torch.Tensor(test_data[:, -1]).view(-1, output_size).to(device)\n",
    "    outputs = model(inputs)\n",
    "    loss = criterion(outputs, targets)\n",
    "    print(f'Test Loss: {loss.item():.4f}')"
   ]
  },
  {
   "cell_type": "code",
   "execution_count": 15,
   "id": "3970b7f3",
   "metadata": {},
   "outputs": [],
   "source": [
    "# Denormalize the predictions\n",
    "predicted_values = scaler.inverse_transform(outputs.cpu().numpy())"
   ]
  },
  {
   "cell_type": "code",
   "execution_count": 16,
   "id": "6858bcf1",
   "metadata": {},
   "outputs": [
    {
     "name": "stdout",
     "output_type": "stream",
     "text": [
      "[[4751.717  1659.8116]\n",
      " [4738.348  1654.7292]\n",
      " [4792.1797 1675.1982]\n",
      " ...\n",
      " [4733.817  1655.8323]\n",
      " [4740.6323 1680.3369]\n",
      " [4799.046  1728.0062]]\n"
     ]
    }
   ],
   "source": [
    "print(predicted_values)"
   ]
  },
  {
   "cell_type": "code",
   "execution_count": 17,
   "id": "1985f43f",
   "metadata": {},
   "outputs": [
    {
     "data": {
      "text/plain": [
       "array([4751.717 , 4738.348 , 4792.1797, 4774.2417, 4716.2803, 4700.4644,\n",
       "       4970.463 , 4595.181 , 4685.5527, 4601.854 , 4536.1494, 4563.2446,\n",
       "       4566.602 , 4654.4663, 4616.081 , 4625.677 , 4565.544 , 4638.041 ,\n",
       "       4538.864 , 4527.541 , 4639.364 , 4709.0615, 4768.811 , 4768.7607,\n",
       "       4834.297 , 4817.0005, 4817.0005, 4794.885 , 4794.885 , 4786.379 ,\n",
       "       4786.378 , 4787.9263, 4773.7246, 4773.714 , 4755.217 , 4699.666 ,\n",
       "       4699.9287, 4773.2075, 4744.062 , 4744.02  , 4727.167 , 4779.151 ,\n",
       "       4779.1265, 4742.115 , 4708.4097, 4655.1626, 4655.4507, 4700.0576,\n",
       "       4653.3267, 4720.1367, 4719.9463, 4677.4316, 4698.942 , 4711.4077,\n",
       "       4717.5337, 4720.528 , 4717.174 , 4952.7227, 4627.7393, 4617.1743,\n",
       "       4720.295 , 4694.8604, 4655.1475, 4740.9697, 4706.307 , 4702.585 ,\n",
       "       4627.8374, 4905.5737, 4874.8257, 4875.1855, 4685.926 , 4642.2114,\n",
       "       4665.6304, 4724.4346, 4415.9473, 4649.651 , 4649.561 , 4637.8545,\n",
       "       4640.9834, 4682.152 , 4679.7134, 4460.7173, 4650.8174, 4591.609 ,\n",
       "       4456.6953, 4513.7197, 4558.7227, 4515.971 , 4501.1304, 4512.395 ,\n",
       "       4541.6597, 4583.295 , 4495.429 , 4554.36  , 4476.465 , 4484.953 ,\n",
       "       4501.792 , 4686.7305, 4654.017 , 4678.3013, 4668.864 , 4663.03  ,\n",
       "       4654.221 , 4667.8496, 4850.309 , 4861.3286, 4858.6846, 4855.597 ,\n",
       "       4854.253 , 4781.4756, 4781.4043, 4831.3545, 4831.3545, 4788.958 ,\n",
       "       4788.958 , 4780.7   , 4780.7   , 4703.974 , 4703.974 , 4703.974 ,\n",
       "       4684.507 , 4684.507 , 4684.9087, 4781.733 , 4781.729 , 4790.634 ,\n",
       "       4790.113 , 4635.1787, 4566.4243, 4617.479 , 4672.4653, 4580.3906,\n",
       "       4611.383 , 4611.383 , 4609.9326, 4609.9326, 4751.3286, 4750.9336,\n",
       "       4651.882 , 4695.3564, 4695.307 , 4685.947 , 4768.423 , 4768.422 ,\n",
       "       4765.318 , 4764.922 , 4651.945 , 4750.777 , 4734.9277, 4720.9595,\n",
       "       4698.1997, 4669.051 , 4712.7417, 4690.431 , 4642.912 , 4665.011 ,\n",
       "       4957.7397, 4958.9663, 4881.7573, 4862.1816, 4843.6675, 4952.157 ,\n",
       "       4958.754 , 4956.6953, 4961.5977, 4967.2017, 4750.913 , 4670.4263,\n",
       "       4758.9814, 4765.001 , 4728.1875, 4721.8223, 4719.357 , 4761.6934,\n",
       "       4588.047 , 4670.8945, 4779.151 , 4727.3384, 4729.87  , 4605.8335,\n",
       "       4816.5703, 4739.9614, 4737.3604, 4738.35  , 4733.69  , 4603.532 ,\n",
       "       4544.608 , 4746.6577, 4786.249 , 4704.7563, 4703.974 , 4620.852 ,\n",
       "       4619.652 , 4632.384 , 4696.363 , 4716.089 , 4684.346 , 4658.055 ,\n",
       "       4640.988 , 4641.8433, 4688.7017, 4647.88  , 4624.013 , 4731.6777,\n",
       "       4718.456 , 4719.7036, 4527.9404, 4546.1587, 4576.297 , 4534.1157,\n",
       "       4696.27  , 4679.666 , 4643.873 , 4641.9033, 4637.6978, 4576.562 ,\n",
       "       4622.3105, 4621.6523, 4612.174 , 4585.0103, 4599.918 , 4633.886 ,\n",
       "       4615.465 , 4661.3276, 4651.489 , 4575.9014, 4625.864 , 4657.001 ,\n",
       "       4495.2964, 4547.879 , 4647.682 , 4640.326 , 4639.67  , 4647.8135,\n",
       "       4598.599 , 4625.4688, 4630.205 , 4610.3286, 4610.6606, 4648.541 ,\n",
       "       4594.8247, 4614.1904, 4649.8076, 4636.1567, 4676.08  , 4667.0303,\n",
       "       4607.324 , 4610.7188, 4673.0986, 4669.3135, 4648.8203, 4642.8164,\n",
       "       4610.5894, 4625.123 , 4646.857 , 4642.082 , 4648.632 , 4671.176 ,\n",
       "       4636.795 , 4693.4087, 4651.6196, 4717.142 , 4717.269 , 4758.974 ,\n",
       "       4699.535 , 4699.4834, 4689.2144, 4655.1626, 4654.629 , 4590.685 ,\n",
       "       4624.679 , 4624.2607, 4579.4673, 4554.8877, 4556.8984, 4764.8003,\n",
       "       4592.136 , 4592.549 , 4636.7793, 4615.333 , 4616.41  , 4764.152 ,\n",
       "       4745.23  , 4755.7344, 4753.9204, 4736.1387, 4667.751 , 4652.0137,\n",
       "       4671.6807, 4710.7617, 4949.2266, 4808.096 , 4827.77  , 4827.766 ,\n",
       "       4828.666 , 4828.5522, 4854.092 , 4854.092 , 4671.1567, 4753.839 ,\n",
       "       4952.9624, 4954.9023, 4945.646 , 4951.4883, 4947.964 , 4949.677 ,\n",
       "       4977.4097, 4975.652 , 4976.2217, 4988.799 , 4987.7666, 4862.879 ,\n",
       "       4867.966 , 4863.388 , 4873.237 , 4826.885 , 4597.0425, 4543.381 ,\n",
       "       4578.2773, 4624.548 , 4591.2124, 4578.2773, 4530.0117, 4562.2925,\n",
       "       4560.1777, 4841.586 , 4563.349 , 4563.558 , 4583.0303, 4726.3867,\n",
       "       4726.401 , 4730.9404, 4728.598 , 4675.478 , 4741.1587, 4720.8994,\n",
       "       4442.5186, 4439.0854, 4683.4004, 4642.4277, 4624.0215, 4638.618 ,\n",
       "       4748.215 , 4785.09  , 4741.4663, 4751.0684, 4641.2676, 4652.1206,\n",
       "       4623.5234, 4546.7144, 4527.461 , 4618.536 , 4609.7363, 4756.9824,\n",
       "       4730.541 , 4727.949 , 4794.517 , 4757.0312, 4757.034 , 4759.4937,\n",
       "       4734.7095, 4734.744 , 4748.8643, 4734.4497, 4721.961 , 4652.0137,\n",
       "       4647.8135, 4642.9536, 4736.009 , 4667.358 , 4795.037 , 4681.496 ,\n",
       "       4692.482 , 4694.9844, 4965.394 , 4832.27  , 4914.29  , 4620.4917,\n",
       "       4620.168 , 4614.71  , 4603.775 , 4620.063 , 4616.091 , 4602.466 ,\n",
       "       4609.9854, 4604.2886, 4700.9717, 4583.0303, 4644.044 , 4622.2783,\n",
       "       4638.248 , 4605.1304, 4599.4775, 4602.6367, 4598.2476, 4579.389 ,\n",
       "       4649.4834, 4577.05  , 4535.837 , 4534.911 , 4578.6743, 4470.495 ,\n",
       "       4483.76  , 4495.2964, 4621.1265, 4560.97  , 4637.6978, 4633.098 ,\n",
       "       4544.4395, 4601.6313, 4593.852 , 4535.0425, 4577.617 , 4614.4116,\n",
       "       4562.1606, 4632.046 , 4558.591 , 4647.288 , 4647.076 , 4620.6   ,\n",
       "       4620.863 , 4621.292 , 4674.9546, 4684.507 , 4684.296 , 4650.57  ,\n",
       "       4666.046 , 4666.1416, 4681.106 , 4673.2515, 4673.2783, 4677.4424,\n",
       "       4692.7427, 4692.702 , 4684.9   , 4520.7407, 4520.7407, 4514.912 ,\n",
       "       4514.912 , 4620.2056, 4620.2056, 4668.276 , 4666.604 , 4500.9976,\n",
       "       4526.3037, 4527.227 , 4608.7476, 4609.023 , 4640.195 , 4639.7744,\n",
       "       4591.609 , 4651.882 , 4651.581 , 4613.8853, 4659.755 , 4658.93  ,\n",
       "       4564.936 , 4634.0186, 4634.324 , 4674.9546, 4693.2656, 4658.9663,\n",
       "       4660.2783, 4669.061 , 4671.2876, 4718.4453, 4698.23  , 4753.4023,\n",
       "       4625.864 , 4702.0156, 4693.787 , 4712.19  , 4701.6235, 4662.2446,\n",
       "       4696.925 , 4675.3477, 4653.4575, 4641.378 , 4692.2197, 4691.8286,\n",
       "       4717.664 , 4731.719 , 4763.6353, 4755.8647, 4672.98  , 4718.9062,\n",
       "       4740.416 , 4736.3267, 4762.848 , 4753.6294, 4736.0557, 4709.762 ,\n",
       "       4721.9995, 4718.9883, 4718.3203, 4706.074 , 4729.504 , 4742.7676,\n",
       "       4735.278 , 4745.34  , 4744.4956, 4749.087 , 4736.4272, 4741.764 ,\n",
       "       4726.9556, 4604.7944, 4638.7485, 4645.186 , 4697.055 , 4663.0312,\n",
       "       4691.436 , 4790.891 , 4786.379 , 4756.6426, 4728.859 , 4759.1045,\n",
       "       4768.811 , 4743.1533, 4763.764 , 4762.989 , 4759.364 , 4750.6797,\n",
       "       4767.13  , 4727.7163, 4725.2725, 4796.3022, 4846.821 , 4743.741 ,\n",
       "       4945.3867, 4944.765 , 4942.784 , 4945.6577, 4943.5483, 4944.45  ,\n",
       "       4949.186 , 4950.343 , 4948.4443, 4954.833 , 4954.5327, 4739.471 ,\n",
       "       4722.1   , 4777.0513, 4815.7407, 4806.874 , 4842.448 , 4629.9126,\n",
       "       4659.432 , 4651.069 , 4665.6436, 4645.4883, 4631.2446, 4602.558 ,\n",
       "       4637.291 , 4732.058 , 4661.718 , 4728.6333, 4740.6553, 4728.8657,\n",
       "       4730.981 , 4677.7793, 4691.0386, 4750.3887, 4735.039 , 4715.482 ,\n",
       "       4693.223 , 4711.0903, 4697.787 , 4665.1836, 4673.712 , 4736.7803,\n",
       "       4732.85  , 4583.7666, 4632.791 , 4643.1265, 4574.1987, 4552.0044,\n",
       "       4616.92  , 4665.137 , 4614.7446, 4652.84  , 4534.4233, 4597.1636,\n",
       "       4612.361 , 4590.771 , 4626.901 , 4558.198 , 4634.922 , 4577.411 ,\n",
       "       4762.5806, 4746.878 , 4628.95  , 4689.4985, 4711.9165, 4642.5596,\n",
       "       4642.5596, 4714.146 , 4714.146 , 4604.7944, 4604.7944, 4658.18  ,\n",
       "       4658.18  , 4628.101 , 4628.9688, 4756.1235, 4783.669 , 4783.1606,\n",
       "       4632.5723, 4632.5723, 4723.9136, 4723.9136, 4723.891 , 4717.5337,\n",
       "       4717.5337, 4740.1675, 4740.1675, 4739.8916, 4670.1094, 4670.1094,\n",
       "       4762.34  , 4762.34  , 4762.3315, 4754.049 , 4754.049 , 4738.348 ,\n",
       "       4738.348 , 4737.6045, 4963.9023, 4970.646 , 4963.78  , 4960.6914,\n",
       "       4961.483 , 4960.385 , 4963.1675, 4960.338 , 4784.701 , 4784.705 ,\n",
       "       4777.7305, 4777.989 , 4777.9775, 4797.847 , 4696.4014, 4696.4595,\n",
       "       4708.54  , 4707.496 , 4707.6763, 4760.141 , 4674.6924, 4740.6865,\n",
       "       4439.973 , 4521.536 , 4822.374 , 4959.4185, 4650.2046, 4636.768 ,\n",
       "       4630.1626, 4602.8506, 4616.779 , 4642.4365, 4620.7036, 4489.5005,\n",
       "       4535.1323, 4602.268 , 4599.548 , 4564.0894, 4651.0957, 4634.413 ,\n",
       "       4634.363 , 4628.364 , 4659.6226, 4658.4697, 4536.102 , 4697.1855,\n",
       "       4696.714 , 4623.7583, 4662.9004, 4662.733 , 4639.4067, 4619.6787,\n",
       "       4620.058 , 4666.701 , 4637.435 , 4637.8286, 4692.482 , 4700.9717,\n",
       "       4700.8516, 4677.7036, 4629.942 , 4630.3687, 4687.244 , 4711.269 ,\n",
       "       4811.5454, 4762.734 , 4768.166 , 4791.161 , 4771.6553, 4788.9995,\n",
       "       4835.194 , 4824.951 , 4799.1357, 4746.9165, 4720.7896, 4765.7065,\n",
       "       4761.176 , 4699.274 , 4661.59  , 4758.974 , 4757.8086, 4735.359 ,\n",
       "       4739.2583, 4735.0986, 4727.5576, 4742.375 , 4761.701 , 4827.3887,\n",
       "       4841.003 , 4956.824 , 4960.8325, 4837.373 , 4817.5127, 4817.5127,\n",
       "       4834.6816, 4930.4717, 4825.0693, 4773.4287, 4872.005 , 4810.19  ,\n",
       "       4876.7344, 4892.069 , 4630.73  , 4674.823 , 4751.587 , 4856.377 ,\n",
       "       4853.5327, 4862.0493, 4848.3105, 4860.3213, 4884.5054, 4861.3525,\n",
       "       4810.5796, 4685.947 , 4643.611 , 4644.4067, 4660.8027, 4661.0254,\n",
       "       4748.734 , 4712.0376, 4743.76  , 4728.35  , 4625.4526, 4533.3223,\n",
       "       4533.732 , 4569.2964, 4680.321 , 4773.9834, 4773.9834, 4717.9253,\n",
       "       4717.9253, 4788.958 , 4788.958 , 4789.4736, 4789.4736, 4793.9834,\n",
       "       4793.9834, 4801.451 , 4801.451 , 4794.2407, 4794.2407, 4958.69  ,\n",
       "       4961.701 , 4961.5884, 4957.9688, 4957.3853, 4701.8433, 4618.989 ,\n",
       "       4587.8286, 4634.5356, 4649.5234, 4576.652 , 4733.129 , 4800.8003,\n",
       "       4625.3374, 4637.6978, 4638.246 , 4718.055 , 4674.3003, 4674.7344,\n",
       "       4765.059 , 4765.0195, 4736.659 , 4736.7163, 4763.6353, 4763.64  ,\n",
       "       4769.846 , 4769.837 , 4757.5493, 4757.5693, 4785.218 , 4785.1895,\n",
       "       4809.1655, 4809.2114, 4784.314 , 4784.2983, 4801.1934, 4801.187 ,\n",
       "       4804.6665, 4804.71  , 4767.648 , 4767.652 , 4775.2754, 4775.26  ,\n",
       "       4804.41  , 4804.3833, 4816.102 , 4816.172 , 4782.508 , 4782.489 ,\n",
       "       4803.637 , 4803.6416, 4801.837 , 4801.8726, 4768.6816, 4768.684 ,\n",
       "       4786.6367, 4786.6426, 4766.0957, 4766.0986, 4772.8203, 4772.818 ,\n",
       "       4767.2593, 4767.264 , 4783.282 , 4783.282 , 4762.7295, 4762.737 ,\n",
       "       4773.854 , 4773.854 , 4778.763 , 4778.7573, 4759.4937, 4759.4995,\n",
       "       4765.8364, 4765.8394, 4771.2686, 4771.2505, 4749.383 , 4749.4067,\n",
       "       4766.353 , 4766.346 , 4757.938 , 4757.9473, 4765.8364, 4765.8364,\n",
       "       4766.353 , 4766.3564, 4770.6226, 4770.6226, 4769.1997, 4769.0635,\n",
       "       4702.1465, 4702.3374, 4752.754 , 4752.761 , 4756.9014, 4756.89  ,\n",
       "       4748.993 , 4748.877 , 4706.3213, 4706.4785, 4749.123 , 4749.0596,\n",
       "       4722.4814, 4722.6064, 4770.363 , 4770.3647, 4780.443 , 4780.397 ,\n",
       "       4729.639 , 4729.6753, 4742.7646, 4742.755 , 4738.7383, 4738.715 ,\n",
       "       4730.1187, 4717.5264, 4752.236 , 4753.1426, 4695.4863, 4750.55  ,\n",
       "       4744.9707, 4748.604 , 4770.235 , 4766.0957, 4753.5317, 4749.123 ,\n",
       "       4754.3096, 4753.9204, 4740.0386, 4756.772 , 4760.9165, 4761.564 ,\n",
       "       4756.512 , 4759.6226, 4736.359 , 4789.1655, 4814.57  , 4809.154 ,\n",
       "       4978.472 , 4969.641 , 4963.542 , 4932.0947, 4634.938 , 4626.3896,\n",
       "       4592.6646, 4620.7314, 4595.4346, 4594.6436, 4496.888 , 4622.3105,\n",
       "       4622.5605, 4652.8013, 4718.575 , 4718.345 , 4669.7163, 4679.4043,\n",
       "       4679.8096, 4768.811 , 4768.811 , 4769.587 , 4757.2896, 4757.2764,\n",
       "       4747.4355, 4736.009 , 4736.028 , 4743.2603, 4733.287 , 4672.111 ,\n",
       "       4658.121 , 4689.1514, 4702.279 , 4702.696 , 4660.4863, 4715.885 ,\n",
       "       4616.2285, 4714.9277, 4686.0586, 4682.984 , 4691.4067, 4711.933 ,\n",
       "       4684.7686, 4739.6323, 4670.346 , 4711.829 , 4719.432 , 4742.877 ,\n",
       "       4735.5806, 4705.399 , 4735.6147, 4979.4614, 4974.5347, 4730.0205,\n",
       "       4726.938 , 4674.3154, 4744.9707, 4768.811 , 4785.218 , 4738.4004,\n",
       "       4746.498 , 4669.092 , 4720.9404, 4727.127 , 4715.655 , 4823.7495,\n",
       "       4852.6333, 4847.815 , 4852.5757, 4841.4814, 4956.215 , 4958.4614,\n",
       "       4733.817 , 4740.6323, 4799.046 ], dtype=float32)"
      ]
     },
     "execution_count": 17,
     "metadata": {},
     "output_type": "execute_result"
    }
   ],
   "source": [
    "#Force Values\n",
    "predicted_values[:,0]"
   ]
  },
  {
   "cell_type": "code",
   "execution_count": 18,
   "id": "755efa3c",
   "metadata": {},
   "outputs": [],
   "source": [
    "import matplotlib.pyplot as plt"
   ]
  },
  {
   "cell_type": "code",
   "execution_count": 21,
   "id": "c21379ec",
   "metadata": {},
   "outputs": [
    {
     "data": {
      "image/png": "[encoded data removed]",
      "text/plain": [
       "<Figure size 640x480 with 1 Axes>"
      ]
     },
     "metadata": {},
     "output_type": "display_data"
    }
   ],
   "source": [
    "plt.plot(force_data['meas_exit_temp'],force_data['meas_body_force'],'ro',label='training+test actual')\n",
    "plt.plot(predicted_values[:,1],predicted_values[:,0],'bo',label='test prediction')\n",
    "plt.xlabel('Temp')\n",
    "plt.ylabel('Force')\n",
    "plt.legend()\n",
    "plt.show()"
   ]
  },
  {
   "cell_type": "code",
   "execution_count": 20,
   "id": "c7c0b6ff",
   "metadata": {},
   "outputs": [
    {
     "name": "stdout",
     "output_type": "stream",
     "text": [
      "[[0.36916058 0.83608196]\n",
      " [0.36916058 0.83608196]\n",
      " [0.3879562  0.84457771]\n",
      " ...\n",
      " [0.30164234 0.85807096]\n",
      " [0.30164234 0.85807096]\n",
      " [0.13229927 0.87456272]]\n"
     ]
    }
   ],
   "source": [
    "print(test_data)"
   ]
  },
  {
   "cell_type": "markdown",
   "id": "dc95498b",
   "metadata": {},
   "source": [
    "### Test loss : 0.0046"
   ]
  },
  {
   "cell_type": "markdown",
   "id": "d7f38a1d",
   "metadata": {},
   "source": [
    "- The number of epochs here is much smaller as compared to FFNs since the network is more complicated.\n",
    "- Here the data is split into training and test data.\n",
    "- Test loss is 0.0046 which is quite good.\n",
    "- Next step would be to integrate it into finding the parameter values c1,c2, c3 and c4."
   ]
  },
  {
   "cell_type": "code",
   "execution_count": null,
   "id": "6961baa4",
   "metadata": {},
   "outputs": [],
   "source": []
  }
 ],
 "metadata": {
  "kernelspec": {
   "display_name": "Python [conda env:pyt-env] *",
   "language": "python",
   "name": "conda-env-pyt-env-py"
  },
  "language_info": {
   "codemirror_mode": {
    "name": "ipython",
    "version": 3
   },
   "file_extension": ".py",
   "mimetype": "text/x-python",
   "name": "python",
   "nbconvert_exporter": "python",
   "pygments_lexer": "ipython3",
   "version": "3.11.7"
  }
 },
 "nbformat": 4,
 "nbformat_minor": 5
}
