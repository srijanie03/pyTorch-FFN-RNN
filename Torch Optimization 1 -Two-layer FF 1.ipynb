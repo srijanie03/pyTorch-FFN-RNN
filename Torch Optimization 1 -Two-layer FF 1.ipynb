{
 "cells": [
  {
   "cell_type": "markdown",
   "id": "90416dcb",
   "metadata": {},
   "source": [
    "## Prediction Using 2-layer Feed forward network"
   ]
  },
  {
   "cell_type": "code",
   "execution_count": 1,
   "id": "00729e50",
   "metadata": {},
   "outputs": [],
   "source": [
    "import torch\n",
    "import torch.nn as nn\n",
    "import torch.optim as optim\n",
    "import pandas as pd\n",
    "import numpy as np\n",
    "import matplotlib.pyplot as plt"
   ]
  },
  {
   "cell_type": "code",
   "execution_count": 2,
   "id": "844f46ae",
   "metadata": {},
   "outputs": [],
   "source": [
    "from sklearn.preprocessing import MinMaxScaler\n",
    "from torch.utils.data import Dataset, DataLoader"
   ]
  },
  {
   "cell_type": "code",
   "execution_count": 3,
   "id": "b0ed0a5b",
   "metadata": {},
   "outputs": [],
   "source": [
    "force1=pd.read_csv('FlowStress_Prediction.csv')"
   ]
  },
  {
   "cell_type": "code",
   "execution_count": 4,
   "id": "ed258a3d",
   "metadata": {},
   "outputs": [],
   "source": [
    "force1['strain']=np.log(force1['sch_entry_thickness']/force1['sch_exit_thickness'])\n",
    "force1['strain_rate']=force1['strain']*force1['meas_speed_fpm']/np.sqrt(0.5*force1['avgrolldiam']*(force1['sch_entry_thickness']-force1['sch_exit_thickness']))\n",
    "force1['ln_strain']=np.log(force1['strain'])\n",
    "force1['ln_strain_rate']=np.log(force1['strain_rate'])\n",
    "force1['core_temp']=force1['meas_entry_temp']+5/9*0.75*force1['model_target_gauge']*(force1['meas_entry_temp']**4/308300000000+(force1['meas_entry_temp']-70)**1.25/1412)\n",
    "R=8.314\n",
    "force1['1/RT']=1/(R*force1['core_temp'])"
   ]
  },
  {
   "cell_type": "code",
   "execution_count": 5,
   "id": "c0127d91",
   "metadata": {},
   "outputs": [],
   "source": [
    "a=force1.loc[force1['model_grade']=='01010095FH1 ']"
   ]
  },
  {
   "cell_type": "code",
   "execution_count": 6,
   "id": "d169043c",
   "metadata": {},
   "outputs": [],
   "source": [
    "a = a.dropna(subset=['1/RT'])"
   ]
  },
  {
   "cell_type": "code",
   "execution_count": 7,
   "id": "afb85d41",
   "metadata": {},
   "outputs": [],
   "source": [
    "RT= a['1/RT']\n",
    "strain_rate = a['strain_rate']\n",
    "measured_values = a['meas_flow_stress']\n",
    "temp=a['core_temp']"
   ]
  },
  {
   "cell_type": "code",
   "execution_count": 8,
   "id": "2ca40cca",
   "metadata": {},
   "outputs": [],
   "source": [
    "input_features = a[['1/RT','strain','strain_rate','meas_flow_stress']].values\n",
    "\n",
    "scaler = MinMaxScaler()\n",
    "scaled_data = scaler.fit_transform(a[['1/RT','strain','strain_rate','meas_flow_stress']])\n"
   ]
  },
  {
   "cell_type": "code",
   "execution_count": 9,
   "id": "a6e6190c",
   "metadata": {},
   "outputs": [],
   "source": [
    "# Convert to PyTorch tensor\n",
    "x_train = torch.tensor(scaled_data, dtype=torch.float32)"
   ]
  },
  {
   "cell_type": "code",
   "execution_count": 10,
   "id": "4375b04d",
   "metadata": {},
   "outputs": [],
   "source": [
    "# Define the neural network model\n",
    "class ZenerHollomonModel(nn.Module):\n",
    "    def __init__(self):\n",
    "        super(ZenerHollomonModel, self).__init__()\n",
    "        self.fc1 = nn.Linear(4, 64)  # First layer: 4 input features, 64 hidden units\n",
    "        self.fc2 = nn.Linear(64, 4)   # Second layer: 64 hidden units, 4 output units \n",
    "\n",
    "    def forward(self, x):\n",
    "        x = torch.relu(self.fc1(x))  # Apply ReLU activation to the output of the first layer\n",
    "        x = self.fc2(x)              # Output layer, no activation function for coefficients\n",
    "        return x"
   ]
  },
  {
   "cell_type": "code",
   "execution_count": 11,
   "id": "d51d6cee",
   "metadata": {},
   "outputs": [],
   "source": [
    "# Define the loss function and optimizer\n",
    "model = ZenerHollomonModel()\n",
    "criterion = nn.MSELoss()\n",
    "optimizer = optim.Adam(model.parameters(), lr=0.001)"
   ]
  },
  {
   "cell_type": "code",
   "execution_count": 12,
   "id": "3666393a",
   "metadata": {},
   "outputs": [
    {
     "name": "stderr",
     "output_type": "stream",
     "text": [
      "C:\\Users\\SDEY\\AppData\\Local\\anaconda3\\envs\\pyt-env\\Lib\\site-packages\\torch\\nn\\modules\\loss.py:535: UserWarning: Using a target size (torch.Size([164, 1])) that is different to the input size (torch.Size([164, 4])). This will likely lead to incorrect results due to broadcasting. Please ensure they have the same size.\n",
      "  return F.mse_loss(input, target, reduction=self.reduction)\n"
     ]
    },
    {
     "name": "stdout",
     "output_type": "stream",
     "text": [
      "Epoch [100/2500], Loss: 32.5658\n",
      "Epoch [200/2500], Loss: 1.6506\n",
      "Epoch [300/2500], Loss: 1.2933\n",
      "Epoch [400/2500], Loss: 1.1369\n",
      "Epoch [500/2500], Loss: 0.9309\n",
      "Epoch [600/2500], Loss: 0.7285\n",
      "Epoch [700/2500], Loss: 0.5472\n",
      "Epoch [800/2500], Loss: 0.3952\n",
      "Epoch [900/2500], Loss: 0.2752\n",
      "Epoch [1000/2500], Loss: 0.1846\n",
      "Epoch [1100/2500], Loss: 0.1189\n",
      "Epoch [1200/2500], Loss: 0.0732\n",
      "Epoch [1300/2500], Loss: 0.0426\n",
      "Epoch [1400/2500], Loss: 0.0235\n",
      "Epoch [1500/2500], Loss: 0.0125\n",
      "Epoch [1600/2500], Loss: 0.0066\n",
      "Epoch [1700/2500], Loss: 0.0037\n",
      "Epoch [1800/2500], Loss: 0.0023\n",
      "Epoch [1900/2500], Loss: 0.0016\n",
      "Epoch [2000/2500], Loss: 0.0013\n",
      "Epoch [2100/2500], Loss: 0.0011\n",
      "Epoch [2200/2500], Loss: 0.0010\n",
      "Epoch [2300/2500], Loss: 0.0010\n",
      "Epoch [2400/2500], Loss: 0.0009\n",
      "Epoch [2500/2500], Loss: 0.0008\n"
     ]
    }
   ],
   "source": [
    "# Train the model\n",
    "num_epochs = 2500\n",
    "for epoch in range(num_epochs):\n",
    "    optimizer.zero_grad()\n",
    "    outputs = model(x_train)\n",
    "    \n",
    "    # Assuming you have the ground truth coefficients from another source\n",
    "    # For demonstration, randomly generate target coefficients\n",
    "    target_coefficients = torch.tensor(a['meas_flow_stress'].values).float().view(-1, 1)\n",
    "    \n",
    "    loss = criterion(outputs, target_coefficients)\n",
    "    loss.backward()\n",
    "    optimizer.step()\n",
    "\n",
    "    if (epoch+1) % 100 == 0:\n",
    "        print(f'Epoch [{epoch+1}/{num_epochs}], Loss: {loss.item():.4f}')\n"
   ]
  },
  {
   "cell_type": "code",
   "execution_count": 13,
   "id": "595865c5",
   "metadata": {},
   "outputs": [
    {
     "name": "stdout",
     "output_type": "stream",
     "text": [
      "[[1.59911060e-04 3.71827849e-01 3.07816634e+01 2.58998355e+01]\n",
      " [2.62167863e-04 7.58795385e-01 5.94572715e+01 4.99100380e+01]\n",
      " [3.55391440e-04 1.11186059e+00 8.56747820e+01 7.21273115e+01]\n",
      " [3.80110176e-04 1.20491904e+00 9.26038512e+01 7.79383050e+01]\n",
      " [3.91594552e-04 1.24901988e+00 9.58514381e+01 8.08667943e+01]\n",
      " [4.04857856e-04 1.29662786e+00 9.95134873e+01 8.37903021e+01]\n",
      " [4.20663144e-04 1.35760443e+00 1.03971833e+02 8.76878746e+01]\n",
      " [4.42862435e-04 1.43328653e+00 1.10057038e+02 9.25690585e+01]\n",
      " [4.63130705e-04 1.50980928e+00 1.15739502e+02 9.74488178e+01]\n",
      " [5.06807498e-04 1.65978330e+00 1.27748190e+02 1.07193138e+02]\n",
      " [3.47910902e-04 1.06686337e+00 8.34297021e+01 7.00642012e+01]\n",
      " [3.86306872e-04 1.22458401e+00 9.41985006e+01 7.92709524e+01]\n",
      " [1.87424382e-04 4.76923588e-01 3.84998617e+01 3.25390459e+01]\n",
      " [3.11010485e-04 9.43898285e-01 7.31924093e+01 6.14876545e+01]\n",
      " [3.83839481e-04 1.21955044e+00 9.36745909e+01 7.88820647e+01]\n",
      " [4.00906132e-04 1.28318286e+00 9.84336994e+01 8.27588186e+01]\n",
      " [4.20691087e-04 1.35835884e+00 1.04006892e+02 8.76164967e+01]\n",
      " [4.29285396e-04 1.38907313e+00 1.06381205e+02 8.95796399e+01]\n",
      " [4.49554570e-04 1.46633094e+00 1.12077035e+02 9.44395566e+01]\n",
      " [4.67226701e-04 1.52576964e+00 1.16911775e+02 9.83579616e+01]\n",
      " [4.87936039e-04 1.60303669e+00 1.22695986e+02 1.03235963e+02]\n",
      " [5.31120477e-04 1.75229604e+00 1.34592354e+02 1.12981726e+02]\n",
      " [3.68470505e-04 1.14434593e+00 8.92008168e+01 7.48873558e+01]\n",
      " [3.98437836e-04 1.27043846e+00 9.76188008e+01 8.21411163e+01]\n",
      " [2.12231248e-04 5.70323573e-01 4.54585314e+01 3.83254628e+01]\n",
      " [3.91772543e-04 1.25002289e+00 9.59156060e+01 8.08126318e+01]\n",
      " [4.00610436e-04 1.28238298e+00 9.83621719e+01 8.27613441e+01]\n",
      " [4.20888846e-04 1.35892466e+00 1.04055054e+02 8.76146743e+01]\n",
      " [4.29197364e-04 1.38894510e+00 1.06361106e+02 8.95799267e+01]\n",
      " [4.49616547e-04 1.46667383e+00 1.12093965e+02 9.44382338e+01]\n",
      " [4.71164003e-04 1.54086353e+00 1.18024510e+02 9.93237747e+01]\n",
      " [4.92353865e-04 1.61779971e+00 1.23906860e+02 1.04204986e+02]\n",
      " [5.35178431e-04 1.76742571e+00 1.35731085e+02 1.13947789e+02]\n",
      " [3.72670529e-04 1.15951462e+00 9.03700911e+01 7.58538026e+01]\n",
      " [4.02431770e-04 1.28560186e+00 9.87412390e+01 8.31002413e+01]\n",
      " [2.16371281e-04 5.85976857e-01 4.66204544e+01 3.92894860e+01]\n",
      " [3.27368433e-04 1.00563315e+00 7.77875008e+01 6.53469895e+01]\n",
      " [3.75329077e-04 1.18801670e+00 9.12994205e+01 7.69541987e+01]\n",
      " [3.84210024e-04 1.22041118e+00 9.37554526e+01 7.89029757e+01]\n",
      " [4.04328717e-04 1.29664267e+00 9.94110694e+01 8.37570645e+01]\n",
      " [4.12843561e-04 1.32699970e+00 1.01764568e+02 8.57215214e+01]\n",
      " [4.29095379e-04 1.38915893e+00 1.06330667e+02 8.96153566e+01]\n",
      " [4.50836822e-04 1.46382380e+00 1.12307547e+02 9.44994730e+01]\n",
      " [4.75929676e-04 1.55576969e+00 1.19294469e+02 1.00346757e+02]\n",
      " [5.14886030e-04 1.69060099e+00 1.30023858e+02 1.09122636e+02]\n",
      " [3.56108455e-04 1.09809573e+00 8.57352426e+01 7.19922891e+01]\n",
      " [3.94351036e-04 1.25508381e+00 9.64630300e+01 8.11878378e+01]\n",
      " [2.18231315e-04 5.92055082e-01 4.70543222e+01 3.93591387e+01]\n",
      " [3.47346058e-04 1.08548764e+00 8.34299331e+01 7.02609947e+01]\n",
      " [3.84720613e-04 1.22595469e+00 9.38954989e+01 7.89765877e+01]\n",
      " [3.97099582e-04 1.27228519e+00 9.73520413e+01 8.19156782e+01]\n",
      " [4.20966464e-04 1.36385593e+00 1.04074812e+02 8.77607234e+01]\n",
      " [4.50752129e-04 1.46887944e+00 1.12308097e+02 9.45992319e+01]\n",
      " [4.76589686e-04 1.55974313e+00 1.19431067e+02 1.00485988e+02]\n",
      " [5.27176966e-04 1.74275203e+00 1.33478376e+02 1.12191906e+02]\n",
      " [3.44483325e-04 1.05051276e+00 8.24091042e+01 6.91122270e+01]\n",
      " [3.73928198e-04 1.17705229e+00 9.07034002e+01 7.63668802e+01]\n",
      " [2.38634995e-04 6.69345927e-01 5.27903800e+01 4.41822077e+01]\n",
      " [3.68905147e-04 1.16553491e+00 8.94413668e+01 7.50758145e+01]\n",
      " [3.96047356e-04 1.27003676e+00 9.71178113e+01 8.18771863e+01]\n",
      " [4.13143108e-04 1.33309002e+00 1.01870341e+02 8.57775525e+01]\n",
      " [4.32871667e-04 1.40966205e+00 1.07438870e+02 9.06555727e+01]\n",
      " [4.66919962e-04 1.53015241e+00 1.16857958e+02 9.84593208e+01]\n",
      " [4.97032489e-04 1.63639583e+00 1.25168470e+02 1.05311789e+02]\n",
      " [5.43488992e-04 1.80418926e+00 1.38060668e+02 1.16051598e+02]\n",
      " [3.56720656e-04 1.09677007e+00 8.58483423e+01 7.20068126e+01]\n",
      " [3.90064159e-04 1.23817281e+00 9.52493948e+01 8.01985003e+01]\n",
      " [3.20976493e-04 9.82948763e-01 7.59324448e+01 6.34747847e+01]\n",
      " [3.79316153e-04 1.20723949e+00 9.24374469e+01 7.80031058e+01]\n",
      " [3.92597221e-04 1.25560753e+00 9.61088138e+01 8.09325664e+01]\n",
      " [4.12174277e-04 1.33128508e+00 1.01636815e+02 8.58092360e+01]\n",
      " [4.42218499e-04 1.43740810e+00 1.09939120e+02 9.26369582e+01]\n",
      " [4.62608954e-04 1.51466254e+00 1.15648768e+02 9.75361531e+01]\n",
      " [5.09989447e-04 1.68069708e+00 1.28721688e+02 1.08272919e+02]\n",
      " [3.35534861e-04 1.02045411e+00 7.99594141e+01 6.71697728e+01]\n",
      " [3.65917969e-04 1.14788886e+00 8.84358730e+01 7.45012294e+01]\n",
      " [1.83039862e-04 4.61799890e-01 3.72685756e+01 3.16484797e+01]\n",
      " [3.00849566e-04 9.11543907e-01 7.04316318e+01 5.96453061e+01]\n",
      " [3.61891692e-04 1.14275915e+00 8.75859423e+01 7.41522583e+01]\n",
      " [3.78606448e-04 1.20489748e+00 9.22487274e+01 7.80516670e+01]\n",
      " [3.99159862e-04 1.28315632e+00 9.80121690e+01 8.29202516e+01]\n",
      " [4.29276318e-04 1.38924663e+00 1.06329435e+02 8.97483624e+01]\n",
      " [4.50092002e-04 1.46690291e+00 1.12133646e+02 9.46473167e+01]\n",
      " [4.97409693e-04 1.63353377e+00 1.25199877e+02 1.05381168e+02]\n",
      " [3.27129271e-04 9.89028600e-01 7.76076644e+01 6.52417958e+01]\n",
      " [3.61666344e-04 1.13222644e+00 8.72205327e+01 7.35596159e+01]\n",
      " [2.20181377e-04 6.02017103e-01 4.76891892e+01 4.03408144e+01]\n",
      " [3.54811722e-04 1.11491895e+00 8.55604557e+01 7.21944989e+01]\n",
      " [3.95811947e-04 1.26973874e+00 9.70645012e+01 8.18781484e+01]\n",
      " [4.12527980e-04 1.33198450e+00 1.01727627e+02 8.57807625e+01]\n",
      " [4.28465788e-04 1.39344988e+00 1.06214256e+02 8.96936356e+01]\n",
      " [4.62550515e-04 1.51429105e+00 1.15645005e+02 9.74959591e+01]\n",
      " [4.88213499e-04 1.60581588e+00 1.22738262e+02 1.03379163e+02]\n",
      " [5.39098519e-04 1.78855962e+00 1.36845734e+02 1.15087366e+02]\n",
      " [3.52464432e-04 1.08069489e+00 8.46571543e+01 7.10442696e+01]\n",
      " [3.81869769e-04 1.20746351e+00 9.29299602e+01 7.82949404e+01]\n",
      " [2.36872926e-04 6.64773455e-01 5.23662644e+01 4.41967960e+01]\n",
      " [3.77044713e-04 1.19670524e+00 9.17337833e+01 7.70043973e+01]\n",
      " [4.11975535e-04 1.33121527e+00 1.01615573e+02 8.57379413e+01]\n",
      " [4.24781581e-04 1.37807074e+00 1.05168417e+02 8.86762038e+01]\n",
      " [4.44534506e-04 1.45471141e+00 1.10742798e+02 9.35540483e+01]\n",
      " [4.78783547e-04 1.57573692e+00 1.20210411e+02 1.01356196e+02]\n",
      " [5.08964652e-04 1.68179878e+00 1.28533375e+02 1.08209802e+02]\n",
      " [5.55422374e-04 1.85019219e+00 1.41432460e+02 1.18947039e+02]\n",
      " [3.60651767e-04 1.11171569e+00 8.69581736e+01 7.29732733e+01]\n",
      " [3.89948733e-04 1.23797628e+00 9.52075256e+01 8.02074086e+01]\n",
      " [2.08316378e-04 5.56086284e-01 4.43365635e+01 3.74326603e+01]\n",
      " [3.95872902e-04 1.26924450e+00 9.70776252e+01 8.18620522e+01]\n",
      " [4.20209186e-04 1.36100370e+00 1.03906015e+02 8.76947108e+01]\n",
      " [4.37247207e-04 1.42507683e+00 1.08656135e+02 9.15949475e+01]\n",
      " [4.67331751e-04 1.53132216e+00 1.16968352e+02 9.84222720e+01]\n",
      " [4.91777959e-04 1.62291974e+00 1.23807566e+02 1.04291147e+02]\n",
      " [5.39007892e-04 1.78960515e+00 1.36855745e+02 1.15024480e+02]\n",
      " [3.60343633e-04 1.11342919e+00 8.69137632e+01 7.29581161e+01]\n",
      " [2.73962633e-04 7.98559947e-01 6.25108970e+01 5.25651292e+01]\n",
      " [2.07780144e-04 5.54843749e-01 4.42091737e+01 3.74363074e+01]\n",
      " [3.50932958e-04 1.09937475e+00 8.44598707e+01 7.12152584e+01]\n",
      " [3.96561129e-04 1.27093050e+00 9.72421209e+01 8.18569644e+01]\n",
      " [4.17211162e-04 1.34830153e+00 1.03018753e+02 8.67215619e+01]\n",
      " [4.29211630e-04 1.39459515e+00 1.06393284e+02 8.96640705e+01]\n",
      " [4.63125242e-04 1.51568065e+00 1.15792516e+02 9.74579575e+01]\n",
      " [4.83674156e-04 1.59191756e+00 1.21524396e+02 1.02362370e+02]\n",
      " [5.34941882e-04 1.77419859e+00 1.35712317e+02 1.14059481e+02]\n",
      " [3.56157286e-04 1.09804821e+00 8.57450774e+01 7.19926869e+01]\n",
      " [3.33772615e-04 1.02575607e+00 7.93907254e+01 6.68241549e+01]\n",
      " [2.32863135e-04 6.49836711e-01 5.12439967e+01 4.32165333e+01]\n",
      " [3.67778092e-04 1.16228223e+00 8.91711915e+01 7.50710782e+01]\n",
      " [4.03842965e-04 1.29966620e+00 9.93259559e+01 8.37929570e+01]\n",
      " [4.21020227e-04 1.36317206e+00 1.04101874e+02 8.76878746e+01]\n",
      " [4.36771437e-04 1.42401194e+00 1.08543553e+02 9.15980002e+01]\n",
      " [4.66770071e-04 1.52994679e+00 1.16834120e+02 9.84264348e+01]\n",
      " [4.91507848e-04 1.62225757e+00 1.23742958e+02 1.04293126e+02]\n",
      " [5.42810983e-04 1.80437287e+00 1.37936523e+02 1.15991154e+02]\n",
      " [3.60076293e-04 1.11316139e+00 8.68541661e+01 7.29583474e+01]\n",
      " [2.54095854e-04 7.23203355e-01 5.68862970e+01 4.78569786e+01]\n",
      " [2.28094278e-04 6.31851799e-01 4.99230153e+01 4.22607201e+01]\n",
      " [4.07257808e-04 1.31348020e+00 1.00313843e+02 8.47626092e+01]\n",
      " [4.21326730e-04 1.36383232e+00 1.04174149e+02 8.76860430e+01]\n",
      " [4.41250454e-04 1.44043295e+00 1.09785790e+02 9.25598171e+01]\n",
      " [4.75287627e-04 1.56170954e+00 1.19213294e+02 1.00353316e+02]\n",
      " [4.95645581e-04 1.63860026e+00 1.24912062e+02 1.05254065e+02]\n",
      " [5.47054749e-04 1.82021839e+00 1.39122513e+02 1.16954719e+02]\n",
      " [3.64247844e-04 1.12908522e+00 8.80257506e+01 7.39212651e+01]\n",
      " [2.46476605e-04 6.93989615e-01 5.47325956e+01 4.60169752e+01]\n",
      " [2.25513604e-04 6.20186659e-01 4.91316805e+01 4.12975156e+01]\n",
      " [3.55312624e-04 1.11588456e+00 8.56773837e+01 7.21916173e+01]\n",
      " [4.04551392e-04 1.30175977e+00 9.94937078e+01 8.38042336e+01]\n",
      " [4.29005932e-04 1.39392125e+00 1.06350490e+02 8.96392140e+01]\n",
      " [4.45185869e-04 1.45596036e+00 1.10894829e+02 9.35503202e+01]\n",
      " [4.79773325e-04 1.57783269e+00 1.20443464e+02 1.01349832e+02]\n",
      " [5.05185377e-04 1.66733362e+00 1.27461200e+02 1.07241130e+02]\n",
      " [5.56095117e-04 1.85132338e+00 1.41587726e+02 1.18943746e+02]\n",
      " [3.60679592e-04 1.11192255e+00 8.69663307e+01 7.29724731e+01]\n",
      " [3.90223600e-04 1.23835481e+00 9.53080293e+01 8.01828389e+01]\n",
      " [2.03740770e-04 5.39677777e-01 4.30699894e+01 3.64835723e+01]\n",
      " [3.51056046e-04 1.10000846e+00 8.44883024e+01 7.12281677e+01]\n",
      " [4.03433927e-04 1.29902237e+00 9.92266073e+01 8.38124851e+01]\n",
      " [4.28880760e-04 1.39333402e+00 1.06317455e+02 8.96413972e+01]\n",
      " [4.45277675e-04 1.45618534e+00 1.10916754e+02 9.35496542e+01]\n",
      " [4.79470045e-04 1.57709015e+00 1.20371001e+02 1.01352079e+02]\n",
      " [5.08888174e-04 1.68277847e+00 1.28528205e+02 1.08204519e+02]\n",
      " [5.60074705e-04 1.86652125e+00 1.42710560e+02 1.19909235e+02]\n",
      " [3.60571143e-04 1.11138923e+00 8.69374480e+01 7.29744620e+01]\n",
      " [3.94185779e-04 1.25346410e+00 9.64188506e+01 8.11444245e+01]]\n"
     ]
    }
   ],
   "source": [
    "# Use the model for prediction\n",
    "with torch.no_grad():\n",
    "    predicted_coefficients = model(x_train)\n",
    "    #print(\"Predicted coefficients:\", predicted_coefficients)\n",
    "\n",
    "# Denormalize the predictions\n",
    "predicted_values = scaler.inverse_transform(predicted_coefficients)\n",
    "print(predicted_values)"
   ]
  },
  {
   "cell_type": "code",
   "execution_count": 14,
   "id": "bfa6c45a",
   "metadata": {},
   "outputs": [
    {
     "data": {
      "image/png": "[encoded data removed]",
      "text/plain": [
       "<Figure size 640x480 with 1 Axes>"
      ]
     },
     "metadata": {},
     "output_type": "display_data"
    }
   ],
   "source": [
    "plt.plot(a['core_temp'],measured_values,'ro',label='actual')\n",
    "plt.plot(a['core_temp'],predicted_coefficients[:,3],'bo',label='predicted')\n",
    "plt.xlabel('Temp')\n",
    "plt.ylabel('Force')\n",
    "plt.legend()\n",
    "plt.show()"
   ]
  },
  {
   "cell_type": "markdown",
   "id": "c66ab877",
   "metadata": {},
   "source": [
    "## Loss : 0.0008"
   ]
  },
  {
   "cell_type": "markdown",
   "id": "ccd57aa2",
   "metadata": {},
   "source": [
    "As can be seen from the plot above, the prediction is pretty good.\n",
    "- It can be made better by increasing the number of epochs.\n",
    "- The training currently is on the entire dataset, it would be worthwhile to split it into training and test data and recheck the loss."
   ]
  },
  {
   "cell_type": "code",
   "execution_count": null,
   "id": "82a11da3",
   "metadata": {},
   "outputs": [],
   "source": []
  }
 ],
 "metadata": {
  "kernelspec": {
   "display_name": "Python 3 (ipykernel)",
   "language": "python",
   "name": "python3"
  },
  "language_info": {
   "codemirror_mode": {
    "name": "ipython",
    "version": 3
   },
   "file_extension": ".py",
   "mimetype": "text/x-python",
   "name": "python",
   "nbconvert_exporter": "python",
   "pygments_lexer": "ipython3",
   "version": "3.11.7"
  }
 },
 "nbformat": 4,
 "nbformat_minor": 5
}
